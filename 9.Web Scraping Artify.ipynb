{
 "cells": [
  {
   "cell_type": "markdown",
   "id": "2aaca56a",
   "metadata": {},
   "source": [
    "# Artify Movies Recommendation System"
   ]
  },
  {
   "cell_type": "markdown",
   "id": "54e73eb5",
   "metadata": {},
   "source": [
    "## Yahia Chammami \n"
   ]
  },
  {
   "cell_type": "code",
   "execution_count": 1,
   "id": "c30b44b2",
   "metadata": {},
   "outputs": [],
   "source": [
    "import requests\n",
    "from bs4 import BeautifulSoup\n",
    "import pandas as pd\n"
   ]
  },
  {
   "cell_type": "code",
   "execution_count": 2,
   "id": "3a519862",
   "metadata": {
    "scrolled": true
   },
   "outputs": [],
   "source": [
    "# Define the URL\n",
    "url = \"https://artify.tn/fr/media/6198008bc5db040654d275d8/rebelote\"\n",
    "\n",
    "# Send an HTTP GET request to the URL\n",
    "response = requests.get(url)\n",
    "soup = BeautifulSoup(response.text, 'html.parser')"
   ]
  },
  {
   "cell_type": "code",
   "execution_count": 3,
   "id": "4429c99c",
   "metadata": {},
   "outputs": [
    {
     "data": {
      "text/plain": [
       "'120 min'"
      ]
     },
     "execution_count": 3,
     "metadata": {},
     "output_type": "execute_result"
    }
   ],
   "source": [
    "# Extract the desired information\n",
    "duration = soup.find('div', class_='uk-margin-remove mediaInfo_list').find('span').get_text()\n",
    "duration"
   ]
  },
  {
   "cell_type": "code",
   "execution_count": 4,
   "id": "4d46ea6e",
   "metadata": {},
   "outputs": [
    {
     "data": {
      "text/plain": [
       "'2020'"
      ]
     },
     "execution_count": 4,
     "metadata": {},
     "output_type": "execute_result"
    }
   ],
   "source": [
    "release_year = soup.find('span', id='releaseDate').get_text().strip()\n",
    "release_year "
   ]
  },
  {
   "cell_type": "code",
   "execution_count": 5,
   "id": "18d9f13b",
   "metadata": {},
   "outputs": [
    {
     "data": {
      "text/plain": [
       "'Comédie'"
      ]
     },
     "execution_count": 5,
     "metadata": {},
     "output_type": "execute_result"
    }
   ],
   "source": [
    "genre = soup.find('span', id='genre').get_text().strip()\n",
    "genre"
   ]
  },
  {
   "cell_type": "code",
   "execution_count": 6,
   "id": "fd183e59",
   "metadata": {},
   "outputs": [],
   "source": [
    "title = soup.find('h1', class_='titleText').get_text()\n"
   ]
  },
  {
   "cell_type": "code",
   "execution_count": 7,
   "id": "8381a400",
   "metadata": {},
   "outputs": [],
   "source": [
    "description = soup.find('article').get_text().strip()"
   ]
  },
  {
   "cell_type": "code",
   "execution_count": 8,
   "id": "a0bb685b",
   "metadata": {},
   "outputs": [],
   "source": [
    "#Prix = soup.find('button', class_=\"uk-button uk-display-inline uk-button-primary uk-border-rounded \").get_text()\n",
    "#Prix"
   ]
  },
  {
   "cell_type": "code",
   "execution_count": 9,
   "id": "bbbb96d3",
   "metadata": {},
   "outputs": [],
   "source": [
    "# Extract the type\n",
    "type_element = soup.find('a', href='/short')\n",
    "if type_element:\n",
    "        movie_type = type_element.get_text().strip()\n",
    "else:\n",
    "    movie_type = \"N/A\"\n"
   ]
  },
  {
   "cell_type": "code",
   "execution_count": 10,
   "id": "e3ea75d5",
   "metadata": {},
   "outputs": [
    {
     "data": {
      "text/html": [
       "<div>\n",
       "<style scoped>\n",
       "    .dataframe tbody tr th:only-of-type {\n",
       "        vertical-align: middle;\n",
       "    }\n",
       "\n",
       "    .dataframe tbody tr th {\n",
       "        vertical-align: top;\n",
       "    }\n",
       "\n",
       "    .dataframe thead th {\n",
       "        text-align: right;\n",
       "    }\n",
       "</style>\n",
       "<table border=\"1\" class=\"dataframe\">\n",
       "  <thead>\n",
       "    <tr style=\"text-align: right;\">\n",
       "      <th></th>\n",
       "      <th>Title</th>\n",
       "      <th>Description</th>\n",
       "      <th>Release Year</th>\n",
       "      <th>Genre</th>\n",
       "      <th>Duration</th>\n",
       "      <th>Type</th>\n",
       "    </tr>\n",
       "  </thead>\n",
       "  <tbody>\n",
       "    <tr>\n",
       "      <th>0</th>\n",
       "      <td>Rebelote</td>\n",
       "      <td>C’est l’histoire de trois tunisiens que rien n...</td>\n",
       "      <td>2020</td>\n",
       "      <td>Comédie</td>\n",
       "      <td>120 min</td>\n",
       "      <td>Courts métrages</td>\n",
       "    </tr>\n",
       "  </tbody>\n",
       "</table>\n",
       "</div>"
      ],
      "text/plain": [
       "      Title                                        Description Release Year  \\\n",
       "0  Rebelote  C’est l’histoire de trois tunisiens que rien n...         2020   \n",
       "\n",
       "     Genre Duration             Type  \n",
       "0  Comédie  120 min  Courts métrages  "
      ]
     },
     "execution_count": 10,
     "metadata": {},
     "output_type": "execute_result"
    }
   ],
   "source": [
    "# Create a DataFrame\n",
    "data = {'Title': [title],\n",
    "        'Description': [description],\n",
    "        'Release Year': [release_year],\n",
    "        'Genre': [genre],\n",
    "        'Duration': [duration],\n",
    "        'Type': [movie_type] \n",
    "    }\n",
    "\n",
    "df = pd.DataFrame(data)\n",
    "\n",
    "df"
   ]
  },
  {
   "cell_type": "code",
   "execution_count": null,
   "id": "757eda02",
   "metadata": {},
   "outputs": [],
   "source": []
  },
  {
   "cell_type": "code",
   "execution_count": null,
   "id": "e0890a1e",
   "metadata": {},
   "outputs": [],
   "source": []
  }
 ],
 "metadata": {
  "kernelspec": {
   "display_name": "Python 3 (ipykernel)",
   "language": "python",
   "name": "python3"
  },
  "language_info": {
   "codemirror_mode": {
    "name": "ipython",
    "version": 3
   },
   "file_extension": ".py",
   "mimetype": "text/x-python",
   "name": "python",
   "nbconvert_exporter": "python",
   "pygments_lexer": "ipython3",
   "version": "3.10.9"
  }
 },
 "nbformat": 4,
 "nbformat_minor": 5
}
