{
 "cells": [
  {
   "cell_type": "markdown",
   "id": "10aaa443",
   "metadata": {},
   "source": [
    "# Python Basics Class Prepa"
   ]
  },
  {
   "cell_type": "markdown",
   "id": "0795ddf1",
   "metadata": {},
   "source": [
    "## Yahia Chammami "
   ]
  },
  {
   "cell_type": "code",
   "execution_count": 85,
   "id": "252608be",
   "metadata": {},
   "outputs": [],
   "source": [
    "import sys\n",
    "import keyword\n",
    "import operator \n",
    "from datetime import datetime\n",
    "import os"
   ]
  },
  {
   "cell_type": "markdown",
   "id": "3dd3f1c2",
   "metadata": {},
   "source": [
    "### Keywords\n",
    "Keywords are the reserved words in Python and can't be used as an identifier"
   ]
  },
  {
   "cell_type": "code",
   "execution_count": 86,
   "id": "6d03fc69",
   "metadata": {},
   "outputs": [
    {
     "name": "stdout",
     "output_type": "stream",
     "text": [
      "['False', 'None', 'True', 'and', 'as', 'assert', 'async', 'await', 'break', 'class', 'continue', 'def', 'del', 'elif', 'else', 'except', 'finally', 'for', 'from', 'global', 'if', 'import', 'in', 'is', 'lambda', 'nonlocal', 'not', 'or', 'pass', 'raise', 'return', 'try', 'while', 'with', 'yield']\n"
     ]
    }
   ],
   "source": [
    "print(keyword.kwlist) # List all Python Keywords"
   ]
  },
  {
   "cell_type": "code",
   "execution_count": 87,
   "id": "f98874f4",
   "metadata": {},
   "outputs": [
    {
     "data": {
      "text/plain": [
       "35"
      ]
     },
     "execution_count": 87,
     "metadata": {},
     "output_type": "execute_result"
    }
   ],
   "source": [
    "len(keyword.kwlist) # Python contains 35 keywords"
   ]
  },
  {
   "cell_type": "code",
   "execution_count": 88,
   "id": "438ba139",
   "metadata": {},
   "outputs": [
    {
     "name": "stdout",
     "output_type": "stream",
     "text": [
      "You got a C.\n"
     ]
    }
   ],
   "source": [
    "score = 75\n",
    "\n",
    "if score >= 90:\n",
    "    print(\"You got an A.\")\n",
    "elif score >= 80:\n",
    "    print(\"You got a B.\")\n",
    "elif score >= 70:\n",
    "    print(\"You got a C.\")\n",
    "else:\n",
    "    print(\"You got a D. You need to improve.\")\n"
   ]
  },
  {
   "cell_type": "code",
   "execution_count": 89,
   "id": "fbcdce70",
   "metadata": {},
   "outputs": [
    {
     "name": "stdout",
     "output_type": "stream",
     "text": [
      "Count: 0\n",
      "Count: 1\n",
      "Count: 2\n",
      "Count: 3\n",
      "Count: 4\n"
     ]
    }
   ],
   "source": [
    "count = 0\n",
    "\n",
    "while count < 5:\n",
    "    print(\"Count:\", count)\n",
    "    count += 1"
   ]
  },
  {
   "cell_type": "code",
   "execution_count": 90,
   "id": "e709b700",
   "metadata": {},
   "outputs": [
    {
     "name": "stdout",
     "output_type": "stream",
     "text": [
      "apple\n",
      "banana\n",
      "cherry\n"
     ]
    }
   ],
   "source": [
    "fruits = [\"apple\", \"banana\", \"cherry\"]\n",
    "for fruit in fruits:\n",
    "    print(fruit)"
   ]
  },
  {
   "cell_type": "code",
   "execution_count": 91,
   "id": "efc49fab",
   "metadata": {},
   "outputs": [
    {
     "name": "stdout",
     "output_type": "stream",
     "text": [
      "8\n"
     ]
    }
   ],
   "source": [
    "def add(a, b):\n",
    "    \"\"\"This function adds two numbers and returns the result.\"\"\"\n",
    "    result = a + b\n",
    "    return result\n",
    "sum = add(3, 5)\n",
    "print(sum)  # This will print 8\n"
   ]
  },
  {
   "cell_type": "code",
   "execution_count": 92,
   "id": "570de477",
   "metadata": {},
   "outputs": [
    {
     "name": "stdout",
     "output_type": "stream",
     "text": [
      "Hello, Alice!\n"
     ]
    }
   ],
   "source": [
    "def greet(name):\n",
    "    \"\"\"This function greets the person passed in as a parameter.\"\"\"\n",
    "    print(f\"Hello, {name}!\")\n",
    "greet(\"Alice\")\n"
   ]
  },
  {
   "cell_type": "markdown",
   "id": "eee8ee4c",
   "metadata": {},
   "source": [
    "### Data Types"
   ]
  },
  {
   "cell_type": "markdown",
   "id": "cabc0dbe",
   "metadata": {},
   "source": [
    "#### Numeric"
   ]
  },
  {
   "cell_type": "code",
   "execution_count": 93,
   "id": "a3ca0226",
   "metadata": {},
   "outputs": [
    {
     "name": "stdout",
     "output_type": "stream",
     "text": [
      "<class 'int'>\n",
      "10  is Integer? True\n"
     ]
    }
   ],
   "source": [
    "val1=10 # Integer data type\n",
    "\n",
    "print(type(val1))# type of object\n",
    "\n",
    "print(val1,\" is Integer?\",isinstance(val1,int)) # val1 is an instance of int or not"
   ]
  },
  {
   "cell_type": "code",
   "execution_count": 94,
   "id": "1d042414",
   "metadata": {},
   "outputs": [
    {
     "name": "stdout",
     "output_type": "stream",
     "text": [
      "<class 'float'>\n",
      "92.78  is float? True\n"
     ]
    }
   ],
   "source": [
    "val2 = 92.78 # Float data type\n",
    "\n",
    "print(type(val2)) # type of object\n",
    "\n",
    "print(val2,\" is float?\",isinstance(val2,float)) # Val2 is an instance of float or not"
   ]
  },
  {
   "cell_type": "markdown",
   "id": "c74e9ff3",
   "metadata": {},
   "source": [
    "#### Boolean\n",
    "Boolean data type can have only two possible values **true** or **false**"
   ]
  },
  {
   "cell_type": "code",
   "execution_count": 95,
   "id": "1373685d",
   "metadata": {},
   "outputs": [],
   "source": [
    "bool1= True\n",
    "bool2= False"
   ]
  },
  {
   "cell_type": "code",
   "execution_count": 96,
   "id": "2d419564",
   "metadata": {},
   "outputs": [
    {
     "name": "stdout",
     "output_type": "stream",
     "text": [
      "<class 'bool'>\n",
      "<class 'bool'>\n"
     ]
    }
   ],
   "source": [
    "print(type(bool1))\n",
    "print(type(bool2))"
   ]
  },
  {
   "cell_type": "code",
   "execution_count": 97,
   "id": "83b7a611",
   "metadata": {},
   "outputs": [
    {
     "data": {
      "text/plain": [
       "True"
      ]
     },
     "execution_count": 97,
     "metadata": {},
     "output_type": "execute_result"
    }
   ],
   "source": [
    "isinstance(bool1,bool)"
   ]
  },
  {
   "cell_type": "markdown",
   "id": "f1a9f38f",
   "metadata": {},
   "source": [
    "#### Strings\n",
    "##### String Creation"
   ]
  },
  {
   "cell_type": "code",
   "execution_count": 98,
   "id": "15123b66",
   "metadata": {},
   "outputs": [
    {
     "name": "stdout",
     "output_type": "stream",
     "text": [
      "***** HELLO EMLC MEMBERS\n"
     ]
    }
   ],
   "source": [
    "str1 = \"***** HELLO EMLC MEMBERS\"\n",
    "print(str1)"
   ]
  },
  {
   "cell_type": "markdown",
   "id": "5cb4da5c",
   "metadata": {},
   "source": [
    "##### String Indexing"
   ]
  },
  {
   "cell_type": "code",
   "execution_count": 99,
   "id": "0d490b0f",
   "metadata": {},
   "outputs": [
    {
     "data": {
      "text/plain": [
       "'***** HELLO EMLC MEMBERS'"
      ]
     },
     "execution_count": 99,
     "metadata": {},
     "output_type": "execute_result"
    }
   ],
   "source": [
    "str1"
   ]
  },
  {
   "cell_type": "code",
   "execution_count": 100,
   "id": "eca9509d",
   "metadata": {},
   "outputs": [
    {
     "data": {
      "text/plain": [
       "'*'"
      ]
     },
     "execution_count": 100,
     "metadata": {},
     "output_type": "execute_result"
    }
   ],
   "source": [
    "str1[0] # First character in string \"str1\""
   ]
  },
  {
   "cell_type": "code",
   "execution_count": 101,
   "id": "e9a52152",
   "metadata": {},
   "outputs": [
    {
     "data": {
      "text/plain": [
       "'S'"
      ]
     },
     "execution_count": 101,
     "metadata": {},
     "output_type": "execute_result"
    }
   ],
   "source": [
    "str1[len(str1)-1] # Last character in string using len function"
   ]
  },
  {
   "cell_type": "code",
   "execution_count": 102,
   "id": "d54827f1",
   "metadata": {},
   "outputs": [
    {
     "data": {
      "text/plain": [
       "'S'"
      ]
     },
     "execution_count": 102,
     "metadata": {},
     "output_type": "execute_result"
    }
   ],
   "source": [
    "str1[-1] # Last character in string"
   ]
  },
  {
   "cell_type": "code",
   "execution_count": 103,
   "id": "9158af14",
   "metadata": {},
   "outputs": [
    {
     "data": {
      "text/plain": [
       "'H'"
      ]
     },
     "execution_count": 103,
     "metadata": {},
     "output_type": "execute_result"
    }
   ],
   "source": [
    "str1[6] #Fetch 7th element of the string"
   ]
  },
  {
   "cell_type": "code",
   "execution_count": 104,
   "id": "57aff63f",
   "metadata": {},
   "outputs": [
    {
     "data": {
      "text/plain": [
       "'*****'"
      ]
     },
     "execution_count": 104,
     "metadata": {},
     "output_type": "execute_result"
    }
   ],
   "source": [
    "str1[0:5] #Fetch all characters from 0 to 5 index location"
   ]
  },
  {
   "cell_type": "code",
   "execution_count": 105,
   "id": "56b00e73",
   "metadata": {},
   "outputs": [
    {
     "data": {
      "text/plain": [
       "'HELLO '"
      ]
     },
     "execution_count": 105,
     "metadata": {},
     "output_type": "execute_result"
    }
   ],
   "source": [
    "str1[6:12] #Fetch all characters from 6 to 12 index location"
   ]
  },
  {
   "cell_type": "markdown",
   "id": "7b4b4ce5",
   "metadata": {},
   "source": [
    "##### String concatenation"
   ]
  },
  {
   "cell_type": "code",
   "execution_count": 106,
   "id": "6618a097",
   "metadata": {},
   "outputs": [
    {
     "name": "stdout",
     "output_type": "stream",
     "text": [
      "Machine Learning Club\n"
     ]
    }
   ],
   "source": [
    "# String concatenation\n",
    "s1=\"Machine Learning\"\n",
    "s2=\"Club\"\n",
    "s3=s1+ \" \" +s2\n",
    "print(s3)"
   ]
  },
  {
   "cell_type": "markdown",
   "id": "e3955850",
   "metadata": {},
   "source": [
    "##### Iterating through a String"
   ]
  },
  {
   "cell_type": "code",
   "execution_count": 107,
   "id": "04fce08f",
   "metadata": {},
   "outputs": [],
   "source": [
    "mystr1= \"Hello Everyone\""
   ]
  },
  {
   "cell_type": "code",
   "execution_count": 108,
   "id": "d78a70a3",
   "metadata": {},
   "outputs": [
    {
     "name": "stdout",
     "output_type": "stream",
     "text": [
      "H\n",
      "e\n",
      "l\n",
      "l\n",
      "o\n",
      " \n",
      "E\n",
      "v\n",
      "e\n",
      "r\n",
      "y\n",
      "o\n",
      "n\n",
      "e\n"
     ]
    }
   ],
   "source": [
    "# Iteration\n",
    "for i in mystr1:\n",
    "    print(i)"
   ]
  },
  {
   "cell_type": "markdown",
   "id": "c14a16ce",
   "metadata": {},
   "source": [
    "##### String Functions"
   ]
  },
  {
   "cell_type": "code",
   "execution_count": 109,
   "id": "e2e51be8",
   "metadata": {},
   "outputs": [
    {
     "data": {
      "text/plain": [
       "'*********Hello Everyone***********All the Best**********'"
      ]
     },
     "execution_count": 109,
     "metadata": {},
     "output_type": "execute_result"
    }
   ],
   "source": [
    "mystr2 = \"*********Hello Everyone***********All the Best**********\"\n",
    "mystr2"
   ]
  },
  {
   "cell_type": "code",
   "execution_count": 110,
   "id": "65732097",
   "metadata": {},
   "outputs": [
    {
     "data": {
      "text/plain": [
       "'Hello Everyone***********All the Best'"
      ]
     },
     "execution_count": 110,
     "metadata": {},
     "output_type": "execute_result"
    }
   ],
   "source": [
    "mystr2.strip('*') # Removes all '*' characters from begining & end of the string"
   ]
  },
  {
   "cell_type": "code",
   "execution_count": 111,
   "id": "68e6e5cb",
   "metadata": {},
   "outputs": [
    {
     "data": {
      "text/plain": [
       "'*********Hello Everyone***********All the Best'"
      ]
     },
     "execution_count": 111,
     "metadata": {},
     "output_type": "execute_result"
    }
   ],
   "source": [
    "mystr2.rstrip('*') # Removes all '*' characters at the end of the string"
   ]
  },
  {
   "cell_type": "code",
   "execution_count": 112,
   "id": "215631d9",
   "metadata": {},
   "outputs": [
    {
     "data": {
      "text/plain": [
       "'Hello Everyone***********All the Best**********'"
      ]
     },
     "execution_count": 112,
     "metadata": {},
     "output_type": "execute_result"
    }
   ],
   "source": [
    "mystr2.lstrip('*') # Removes all '*' characters at the begining of the string"
   ]
  },
  {
   "cell_type": "code",
   "execution_count": 113,
   "id": "35e2d968",
   "metadata": {},
   "outputs": [],
   "source": [
    "mystr2 = \" Hello Everyone \""
   ]
  },
  {
   "cell_type": "code",
   "execution_count": 114,
   "id": "92932aae",
   "metadata": {},
   "outputs": [
    {
     "data": {
      "text/plain": [
       "' hello everyone '"
      ]
     },
     "execution_count": 114,
     "metadata": {},
     "output_type": "execute_result"
    }
   ],
   "source": [
    "mystr2.lower() # Return whole string in lowercase"
   ]
  },
  {
   "cell_type": "code",
   "execution_count": 115,
   "id": "b0b9ab97",
   "metadata": {},
   "outputs": [
    {
     "data": {
      "text/plain": [
       "' HELLO EVERYONE '"
      ]
     },
     "execution_count": 115,
     "metadata": {},
     "output_type": "execute_result"
    }
   ],
   "source": [
    "mystr2.upper() # Return whole string in uppercase"
   ]
  },
  {
   "cell_type": "code",
   "execution_count": 116,
   "id": "9090727f",
   "metadata": {},
   "outputs": [
    {
     "data": {
      "text/plain": [
       "' Hollo Everyone '"
      ]
     },
     "execution_count": 116,
     "metadata": {},
     "output_type": "execute_result"
    }
   ],
   "source": [
    "mystr2.replace(\"He\",\"Ho\") #Replace substring \"He\" with \"Ho\""
   ]
  },
  {
   "cell_type": "code",
   "execution_count": 117,
   "id": "d5eb1d4a",
   "metadata": {},
   "outputs": [
    {
     "data": {
      "text/plain": [
       "'HelloEveryone'"
      ]
     },
     "execution_count": 117,
     "metadata": {},
     "output_type": "execute_result"
    }
   ],
   "source": [
    "mystr2.replace(\" \",\"\") # Remove all whitespaces using replace function"
   ]
  },
  {
   "cell_type": "code",
   "execution_count": 118,
   "id": "19b5502e",
   "metadata": {},
   "outputs": [],
   "source": [
    "mystr5 = \"one two Three one two two three\""
   ]
  },
  {
   "cell_type": "code",
   "execution_count": 119,
   "id": "8fcb0c3e",
   "metadata": {},
   "outputs": [
    {
     "data": {
      "text/plain": [
       "2"
      ]
     },
     "execution_count": 119,
     "metadata": {},
     "output_type": "execute_result"
    }
   ],
   "source": [
    "mystr5.count(\"one\") # Number of times substring \"one\" occurred in string"
   ]
  },
  {
   "cell_type": "code",
   "execution_count": 120,
   "id": "543e056b",
   "metadata": {},
   "outputs": [
    {
     "name": "stdout",
     "output_type": "stream",
     "text": [
      "False\n",
      "True\n",
      "True\n"
     ]
    }
   ],
   "source": [
    "mystr6='123456789'\n",
    "print(mystr6.isalpha()) # returns True if all the characters in the text are lettre\n",
    "print(mystr6.isdecimal()) # returns True if all the characters are decimals (0-9)\n",
    "print(mystr6.isnumeric()) # returns True if all the characters are numeric (0-9)"
   ]
  },
  {
   "cell_type": "markdown",
   "id": "0c077534",
   "metadata": {},
   "source": [
    "### List\n",
    "1) List is an ordered sequence of items.\n",
    "2) We can have different data types under a list. E.g we can have integer, float and string items ina same list."
   ]
  },
  {
   "cell_type": "code",
   "execution_count": 121,
   "id": "07140fd5",
   "metadata": {},
   "outputs": [
    {
     "name": "stdout",
     "output_type": "stream",
     "text": [
      "1\n",
      "5 is in the list\n",
      "Combined List: [1, 2, 3, 4, 5, 6]\n",
      "Count of 2: 1\n",
      "Index of 4: 3\n",
      "Squares: [49, 36, 16, 4, 49, 64]\n",
      "Even Numbers: [6, 4, 2, 8]\n",
      "Cleared List: []\n"
     ]
    }
   ],
   "source": [
    "# Creating a list\n",
    "my_list = [1, 2, 3, 4, 5]\n",
    "\n",
    "# Accessing elements\n",
    "print(my_list[0])  # Output: 1\n",
    "sublist = my_list[1:4]  # Get elements at index 1, 2, and 3\n",
    "\n",
    "# Modifying lists\n",
    "my_list.append(6)\n",
    "my_list.insert(2, 7)\n",
    "my_list.remove(3)\n",
    "del my_list[0]\n",
    "\n",
    "# List functions\n",
    "length = len(my_list)\n",
    "my_list.sort()\n",
    "my_list.reverse()\n",
    "new_list = my_list.copy()\n",
    "if 5 in my_list:\n",
    "    print(\"5 is in the list\")\n",
    "\n",
    "# List concatenation\n",
    "list1 = [1, 2, 3]\n",
    "list2 = [4, 5, 6]\n",
    "combined_list = list1 + list2\n",
    "\n",
    "# Counting occurrences\n",
    "count = my_list.count(2)\n",
    "\n",
    "# Finding the index\n",
    "index = my_list.index(4)\n",
    "\n",
    "# Extending a list\n",
    "my_list.extend([7, 8, 9])\n",
    "\n",
    "# Pop and return\n",
    "last_element = my_list.pop()\n",
    "element = my_list.pop(2)\n",
    "\n",
    "# List comprehensions\n",
    "squares = [x**2 for x in my_list]\n",
    "even_numbers = [x for x in my_list if x % 2 == 0]\n",
    "\n",
    "# Clearing a list\n",
    "my_list.clear()\n",
    "\n",
    "# Printing the results\n",
    "print(\"Combined List:\", combined_list)\n",
    "print(\"Count of 2:\", count)\n",
    "print(\"Index of 4:\", index)\n",
    "print(\"Squares:\", squares)\n",
    "print(\"Even Numbers:\", even_numbers)\n",
    "print(\"Cleared List:\", my_list)\n"
   ]
  },
  {
   "cell_type": "markdown",
   "id": "142018f7",
   "metadata": {},
   "source": [
    "## Tupple\n"
   ]
  },
  {
   "cell_type": "code",
   "execution_count": 122,
   "id": "641335db",
   "metadata": {},
   "outputs": [
    {
     "name": "stdout",
     "output_type": "stream",
     "text": [
      "1\n",
      "5 is in the tuple\n",
      "Combined Tuple: (1, 2, 3, 4, 5, 6)\n",
      "Length of Tuple: 5\n",
      "Count of 2: 1\n",
      "Index of 4: 3\n",
      "Unpacked Tuple: 1 2 3 4 5\n",
      "Nested Tuple: ((1, 2), (3, 4), (5, 6))\n",
      "Tuple from List: (1, 2, 3)\n"
     ]
    }
   ],
   "source": [
    "# Creating a tuple\n",
    "my_tuple = (1, 2, 3, 4, 5)\n",
    "\n",
    "# Accessing elements\n",
    "print(my_tuple[0])  # Output: 1\n",
    "subtuple = my_tuple[1:4]  # Get elements at index 1, 2, and 3\n",
    "\n",
    "# Tuple functions\n",
    "length = len(my_tuple)\n",
    "count = my_tuple.count(2)\n",
    "index = my_tuple.index(4)\n",
    "\n",
    "# Tuple concatenation\n",
    "tuple1 = (1, 2, 3)\n",
    "tuple2 = (4, 5, 6)\n",
    "combined_tuple = tuple1 + tuple2\n",
    "\n",
    "# Tuple unpacking\n",
    "a, b, c, d, e = my_tuple\n",
    "\n",
    "# Checking if an element exists in a tuple\n",
    "if 5 in my_tuple:\n",
    "    print(\"5 is in the tuple\")\n",
    "\n",
    "# Nested tuples\n",
    "nested_tuple = ((1, 2), (3, 4), (5, 6))\n",
    "\n",
    "# Converting a list to a tuple\n",
    "my_list = [1, 2, 3]\n",
    "my_tuple_from_list = tuple(my_list)\n",
    "\n",
    "# Printing the results\n",
    "print(\"Combined Tuple:\", combined_tuple)\n",
    "print(\"Length of Tuple:\", length)\n",
    "print(\"Count of 2:\", count)\n",
    "print(\"Index of 4:\", index)\n",
    "print(\"Unpacked Tuple:\", a, b, c, d, e)\n",
    "print(\"Nested Tuple:\", nested_tuple)\n",
    "print(\"Tuple from List:\", my_tuple_from_list)\n"
   ]
  },
  {
   "cell_type": "code",
   "execution_count": 123,
   "id": "c4e9b90b",
   "metadata": {},
   "outputs": [
    {
     "name": "stdout",
     "output_type": "stream",
     "text": [
      "Age exists in the dictionary\n",
      "Name: Alice\n",
      "Age: 30\n",
      "Updated Dictionary: {}\n",
      "Keys: dict_keys([])\n",
      "Values: dict_values([])\n",
      "Items: dict_items([])\n",
      "Removed Value: 30\n",
      "Squared Numbers Dictionary: {1: 1, 2: 4, 3: 9, 4: 16, 5: 25}\n"
     ]
    }
   ],
   "source": [
    "# Creating a dictionary\n",
    "my_dict = {\n",
    "    \"name\": \"Alice\",\n",
    "    \"age\": 30,\n",
    "    \"city\": \"New York\"\n",
    "}\n",
    "\n",
    "# Accessing dictionary values\n",
    "name = my_dict[\"name\"]  # Access value by key\n",
    "age = my_dict.get(\"age\")  # Access value using get method\n",
    "\n",
    "# Modifying dictionary\n",
    "my_dict[\"city\"] = \"San Francisco\"  # Update value\n",
    "my_dict[\"gender\"] = \"Female\"  # Add a new key-value pair\n",
    "\n",
    "# Dictionary functions\n",
    "keys = my_dict.keys()  # Get dictionary keys\n",
    "values = my_dict.values()  # Get dictionary values\n",
    "items = my_dict.items()  # Get key-value pairs as tuples\n",
    "\n",
    "# Checking if a key exists in a dictionary\n",
    "if \"age\" in my_dict:\n",
    "    print(\"Age exists in the dictionary\")\n",
    "\n",
    "# Removing a key-value pair\n",
    "removed_value = my_dict.pop(\"age\")\n",
    "\n",
    "# Dictionary comprehension\n",
    "squared_numbers = {x: x**2 for x in range(1, 6)}\n",
    "\n",
    "# Clearing a dictionary\n",
    "my_dict.clear()\n",
    "\n",
    "# Printing the results\n",
    "print(\"Name:\", name)\n",
    "print(\"Age:\", age)\n",
    "print(\"Updated Dictionary:\", my_dict)\n",
    "print(\"Keys:\", keys)\n",
    "print(\"Values:\", values)\n",
    "print(\"Items:\", items)\n",
    "print(\"Removed Value:\", removed_value)\n",
    "print(\"Squared Numbers Dictionary:\", squared_numbers)\n"
   ]
  },
  {
   "cell_type": "markdown",
   "id": "1ed607a9",
   "metadata": {},
   "source": [
    "### Pandas "
   ]
  },
  {
   "cell_type": "code",
   "execution_count": 124,
   "id": "04ead0e3",
   "metadata": {},
   "outputs": [
    {
     "data": {
      "text/html": [
       "<div>\n",
       "<style scoped>\n",
       "    .dataframe tbody tr th:only-of-type {\n",
       "        vertical-align: middle;\n",
       "    }\n",
       "\n",
       "    .dataframe tbody tr th {\n",
       "        vertical-align: top;\n",
       "    }\n",
       "\n",
       "    .dataframe thead th {\n",
       "        text-align: right;\n",
       "    }\n",
       "</style>\n",
       "<table border=\"1\" class=\"dataframe\">\n",
       "  <thead>\n",
       "    <tr style=\"text-align: right;\">\n",
       "      <th></th>\n",
       "      <th>Name</th>\n",
       "      <th>Age</th>\n",
       "      <th>City</th>\n",
       "      <th>Salary</th>\n",
       "      <th>Department</th>\n",
       "      <th>Hire_Date</th>\n",
       "    </tr>\n",
       "  </thead>\n",
       "  <tbody>\n",
       "    <tr>\n",
       "      <th>0</th>\n",
       "      <td>John</td>\n",
       "      <td>25.0</td>\n",
       "      <td>New York</td>\n",
       "      <td>60000.0</td>\n",
       "      <td>Sales</td>\n",
       "      <td>2022-03-15</td>\n",
       "    </tr>\n",
       "    <tr>\n",
       "      <th>1</th>\n",
       "      <td>Sarah</td>\n",
       "      <td>30.0</td>\n",
       "      <td>Los Angeles</td>\n",
       "      <td>75000.0</td>\n",
       "      <td>Marketing</td>\n",
       "      <td>2021-11-20</td>\n",
       "    </tr>\n",
       "    <tr>\n",
       "      <th>2</th>\n",
       "      <td>Michael</td>\n",
       "      <td>28.0</td>\n",
       "      <td>Chicago</td>\n",
       "      <td>62000.0</td>\n",
       "      <td>Finance</td>\n",
       "      <td>2022-05-10</td>\n",
       "    </tr>\n",
       "    <tr>\n",
       "      <th>3</th>\n",
       "      <td>Emily</td>\n",
       "      <td>24.0</td>\n",
       "      <td>San Francisco</td>\n",
       "      <td>70000.0</td>\n",
       "      <td>Engineering</td>\n",
       "      <td>2023-01-08</td>\n",
       "    </tr>\n",
       "    <tr>\n",
       "      <th>4</th>\n",
       "      <td>David</td>\n",
       "      <td>35.0</td>\n",
       "      <td>Boston</td>\n",
       "      <td>80000.0</td>\n",
       "      <td>HR</td>\n",
       "      <td>2020-09-14</td>\n",
       "    </tr>\n",
       "    <tr>\n",
       "      <th>5</th>\n",
       "      <td>Olivia</td>\n",
       "      <td>29.0</td>\n",
       "      <td>Houston</td>\n",
       "      <td>65000.0</td>\n",
       "      <td>Sales</td>\n",
       "      <td>2021-02-28</td>\n",
       "    </tr>\n",
       "    <tr>\n",
       "      <th>6</th>\n",
       "      <td>Sophia</td>\n",
       "      <td>26.0</td>\n",
       "      <td>Miami</td>\n",
       "      <td>63000.0</td>\n",
       "      <td>Marketing</td>\n",
       "      <td>2022-08-03</td>\n",
       "    </tr>\n",
       "    <tr>\n",
       "      <th>7</th>\n",
       "      <td>Daniel</td>\n",
       "      <td>32.0</td>\n",
       "      <td>Dallas</td>\n",
       "      <td>72000.0</td>\n",
       "      <td>Finance</td>\n",
       "      <td>2023-04-22</td>\n",
       "    </tr>\n",
       "    <tr>\n",
       "      <th>8</th>\n",
       "      <td>Ava</td>\n",
       "      <td>NaN</td>\n",
       "      <td>Seattle</td>\n",
       "      <td>68000.0</td>\n",
       "      <td>Engineering</td>\n",
       "      <td>2020-06-07</td>\n",
       "    </tr>\n",
       "    <tr>\n",
       "      <th>9</th>\n",
       "      <td>David</td>\n",
       "      <td>35.0</td>\n",
       "      <td>Boston</td>\n",
       "      <td>80000.0</td>\n",
       "      <td>NaN</td>\n",
       "      <td>2020-09-14</td>\n",
       "    </tr>\n",
       "    <tr>\n",
       "      <th>10</th>\n",
       "      <td>Ethan</td>\n",
       "      <td>31.0</td>\n",
       "      <td>Atlanta</td>\n",
       "      <td>71000.0</td>\n",
       "      <td>HR</td>\n",
       "      <td>2022-12-19</td>\n",
       "    </tr>\n",
       "    <tr>\n",
       "      <th>11</th>\n",
       "      <td>Liam</td>\n",
       "      <td>33.0</td>\n",
       "      <td>Denver</td>\n",
       "      <td>78000.0</td>\n",
       "      <td>Sales</td>\n",
       "      <td>2021-07-11</td>\n",
       "    </tr>\n",
       "    <tr>\n",
       "      <th>12</th>\n",
       "      <td>Mia</td>\n",
       "      <td>23.0</td>\n",
       "      <td>Phoenix</td>\n",
       "      <td>59000.0</td>\n",
       "      <td>Marketing</td>\n",
       "      <td>2023-02-14</td>\n",
       "    </tr>\n",
       "    <tr>\n",
       "      <th>13</th>\n",
       "      <td>Noah</td>\n",
       "      <td>34.0</td>\n",
       "      <td>Minneapolis</td>\n",
       "      <td>82000.0</td>\n",
       "      <td>Finance</td>\n",
       "      <td>2020-10-05</td>\n",
       "    </tr>\n",
       "    <tr>\n",
       "      <th>14</th>\n",
       "      <td>David</td>\n",
       "      <td>35.0</td>\n",
       "      <td>Boston</td>\n",
       "      <td>80000.0</td>\n",
       "      <td>HR</td>\n",
       "      <td>2020-09-14</td>\n",
       "    </tr>\n",
       "    <tr>\n",
       "      <th>15</th>\n",
       "      <td>Charlotte</td>\n",
       "      <td>28.0</td>\n",
       "      <td>San Diego</td>\n",
       "      <td>66000.0</td>\n",
       "      <td>Engineering</td>\n",
       "      <td>2022-06-29</td>\n",
       "    </tr>\n",
       "    <tr>\n",
       "      <th>16</th>\n",
       "      <td>William</td>\n",
       "      <td>29.0</td>\n",
       "      <td>Portland</td>\n",
       "      <td>69000.0</td>\n",
       "      <td>HR</td>\n",
       "      <td>2021-09-03</td>\n",
       "    </tr>\n",
       "    <tr>\n",
       "      <th>17</th>\n",
       "      <td>Harper</td>\n",
       "      <td>27.0</td>\n",
       "      <td>NaN</td>\n",
       "      <td>64000.0</td>\n",
       "      <td>Sales</td>\n",
       "      <td>2023-03-08</td>\n",
       "    </tr>\n",
       "    <tr>\n",
       "      <th>18</th>\n",
       "      <td>Benjamin</td>\n",
       "      <td>35.0</td>\n",
       "      <td>Austin</td>\n",
       "      <td>76000.0</td>\n",
       "      <td>Marketing</td>\n",
       "      <td>2020-12-17</td>\n",
       "    </tr>\n",
       "    <tr>\n",
       "      <th>19</th>\n",
       "      <td>Sofia</td>\n",
       "      <td>30.0</td>\n",
       "      <td>Orlando</td>\n",
       "      <td>67000.0</td>\n",
       "      <td>Finance</td>\n",
       "      <td>2021-04-26</td>\n",
       "    </tr>\n",
       "    <tr>\n",
       "      <th>20</th>\n",
       "      <td>Michael</td>\n",
       "      <td>28.0</td>\n",
       "      <td>Chicago</td>\n",
       "      <td>62000.0</td>\n",
       "      <td>Finance</td>\n",
       "      <td>2022-05-10</td>\n",
       "    </tr>\n",
       "    <tr>\n",
       "      <th>21</th>\n",
       "      <td>James</td>\n",
       "      <td>26.0</td>\n",
       "      <td>Tampa</td>\n",
       "      <td>NaN</td>\n",
       "      <td>Engineering</td>\n",
       "      <td>2022-10-30</td>\n",
       "    </tr>\n",
       "    <tr>\n",
       "      <th>22</th>\n",
       "      <td>Lily</td>\n",
       "      <td>32.0</td>\n",
       "      <td>Charlotte</td>\n",
       "      <td>73000.0</td>\n",
       "      <td>HR</td>\n",
       "      <td>2023-05-18</td>\n",
       "    </tr>\n",
       "  </tbody>\n",
       "</table>\n",
       "</div>"
      ],
      "text/plain": [
       "         Name   Age           City   Salary   Department   Hire_Date\n",
       "0        John  25.0       New York  60000.0        Sales  2022-03-15\n",
       "1       Sarah  30.0    Los Angeles  75000.0    Marketing  2021-11-20\n",
       "2     Michael  28.0        Chicago  62000.0      Finance  2022-05-10\n",
       "3       Emily  24.0  San Francisco  70000.0  Engineering  2023-01-08\n",
       "4       David  35.0         Boston  80000.0           HR  2020-09-14\n",
       "5      Olivia  29.0        Houston  65000.0        Sales  2021-02-28\n",
       "6      Sophia  26.0          Miami  63000.0    Marketing  2022-08-03\n",
       "7      Daniel  32.0         Dallas  72000.0      Finance  2023-04-22\n",
       "8         Ava   NaN        Seattle  68000.0  Engineering  2020-06-07\n",
       "9       David  35.0         Boston  80000.0          NaN  2020-09-14\n",
       "10      Ethan  31.0        Atlanta  71000.0           HR  2022-12-19\n",
       "11       Liam  33.0         Denver  78000.0        Sales  2021-07-11\n",
       "12        Mia  23.0        Phoenix  59000.0    Marketing  2023-02-14\n",
       "13       Noah  34.0    Minneapolis  82000.0      Finance  2020-10-05\n",
       "14      David  35.0         Boston  80000.0           HR  2020-09-14\n",
       "15  Charlotte  28.0      San Diego  66000.0  Engineering  2022-06-29\n",
       "16    William  29.0       Portland  69000.0           HR  2021-09-03\n",
       "17     Harper  27.0            NaN  64000.0        Sales  2023-03-08\n",
       "18   Benjamin  35.0         Austin  76000.0    Marketing  2020-12-17\n",
       "19      Sofia  30.0        Orlando  67000.0      Finance  2021-04-26\n",
       "20    Michael  28.0        Chicago  62000.0      Finance  2022-05-10\n",
       "21      James  26.0          Tampa      NaN  Engineering  2022-10-30\n",
       "22       Lily  32.0      Charlotte  73000.0           HR  2023-05-18"
      ]
     },
     "execution_count": 124,
     "metadata": {},
     "output_type": "execute_result"
    }
   ],
   "source": [
    "import pandas as pd\n",
    "import numpy as np\n",
    "data = [\n",
    "    [\"John\", 25, \"New York\", 60000, \"Sales\", \"2022-03-15\"],\n",
    "    [\"Sarah\", 30, \"Los Angeles\", 75000, \"Marketing\", \"2021-11-20\"],\n",
    "    [\"Michael\", 28, \"Chicago\", 62000, \"Finance\", \"2022-05-10\"],\n",
    "    [\"Emily\", 24, \"San Francisco\", 70000, \"Engineering\", \"2023-01-08\"],\n",
    "    [\"David\", 35, \"Boston\", 80000, \"HR\", \"2020-09-14\"],\n",
    "    [\"Olivia\", 29, \"Houston\", 65000, \"Sales\", \"2021-02-28\"],\n",
    "    [\"Sophia\", 26, \"Miami\", 63000, \"Marketing\", \"2022-08-03\"],\n",
    "    [\"Daniel\", 32, \"Dallas\", 72000, \"Finance\", \"2023-04-22\"],\n",
    "    [\"Ava\",np.nan, \"Seattle\", 68000, \"Engineering\", \"2020-06-07\"],\n",
    "    [\"David\", 35, \"Boston\", 80000,np.nan, \"2020-09-14\"],\n",
    "    [\"Ethan\", 31, \"Atlanta\", 71000, \"HR\", \"2022-12-19\"],\n",
    "    [\"Liam\", 33, \"Denver\", 78000, \"Sales\", \"2021-07-11\"],\n",
    "    [\"Mia\", 23, \"Phoenix\", 59000, \"Marketing\", \"2023-02-14\"],\n",
    "    [\"Noah\", 34, \"Minneapolis\", 82000, \"Finance\", \"2020-10-05\"],\n",
    "    [\"David\", 35, \"Boston\", 80000, \"HR\", \"2020-09-14\"],\n",
    "    [\"Charlotte\", 28, \"San Diego\", 66000, \"Engineering\", \"2022-06-29\"],\n",
    "    [\"William\", 29, \"Portland\", 69000, \"HR\", \"2021-09-03\"],\n",
    "    [\"Harper\", 27,np.nan, 64000, \"Sales\", \"2023-03-08\"],\n",
    "    [\"Benjamin\", 35, \"Austin\", 76000, \"Marketing\", \"2020-12-17\"],\n",
    "    [\"Sofia\", 30, \"Orlando\", 67000, \"Finance\", \"2021-04-26\"],\n",
    "    [\"Michael\", 28, \"Chicago\", 62000, \"Finance\", \"2022-05-10\"],\n",
    "    [\"James\", 26, \"Tampa\",np.nan, \"Engineering\", \"2022-10-30\"],\n",
    "    [\"Lily\", 32, \"Charlotte\", 73000, \"HR\", \"2023-05-18\"],\n",
    "]\n",
    "\n",
    "columns = [\"Name\", \"Age\", \"City\", \"Salary\", \"Department\", \"Hire_Date\"]\n",
    "\n",
    "df = pd.DataFrame(data, columns=columns)\n",
    "df"
   ]
  },
  {
   "cell_type": "code",
   "execution_count": 125,
   "id": "1aec5284",
   "metadata": {},
   "outputs": [
    {
     "data": {
      "text/html": [
       "<div>\n",
       "<style scoped>\n",
       "    .dataframe tbody tr th:only-of-type {\n",
       "        vertical-align: middle;\n",
       "    }\n",
       "\n",
       "    .dataframe tbody tr th {\n",
       "        vertical-align: top;\n",
       "    }\n",
       "\n",
       "    .dataframe thead th {\n",
       "        text-align: right;\n",
       "    }\n",
       "</style>\n",
       "<table border=\"1\" class=\"dataframe\">\n",
       "  <thead>\n",
       "    <tr style=\"text-align: right;\">\n",
       "      <th></th>\n",
       "      <th>Name</th>\n",
       "      <th>Age</th>\n",
       "      <th>City</th>\n",
       "      <th>Salary</th>\n",
       "      <th>Department</th>\n",
       "      <th>Hire_Date</th>\n",
       "    </tr>\n",
       "  </thead>\n",
       "  <tbody>\n",
       "    <tr>\n",
       "      <th>0</th>\n",
       "      <td>John</td>\n",
       "      <td>25.0</td>\n",
       "      <td>New York</td>\n",
       "      <td>60000.0</td>\n",
       "      <td>Sales</td>\n",
       "      <td>2022-03-15</td>\n",
       "    </tr>\n",
       "    <tr>\n",
       "      <th>1</th>\n",
       "      <td>Sarah</td>\n",
       "      <td>30.0</td>\n",
       "      <td>Los Angeles</td>\n",
       "      <td>75000.0</td>\n",
       "      <td>Marketing</td>\n",
       "      <td>2021-11-20</td>\n",
       "    </tr>\n",
       "    <tr>\n",
       "      <th>2</th>\n",
       "      <td>Michael</td>\n",
       "      <td>28.0</td>\n",
       "      <td>Chicago</td>\n",
       "      <td>62000.0</td>\n",
       "      <td>Finance</td>\n",
       "      <td>2022-05-10</td>\n",
       "    </tr>\n",
       "    <tr>\n",
       "      <th>3</th>\n",
       "      <td>Emily</td>\n",
       "      <td>24.0</td>\n",
       "      <td>San Francisco</td>\n",
       "      <td>70000.0</td>\n",
       "      <td>Engineering</td>\n",
       "      <td>2023-01-08</td>\n",
       "    </tr>\n",
       "    <tr>\n",
       "      <th>4</th>\n",
       "      <td>David</td>\n",
       "      <td>35.0</td>\n",
       "      <td>Boston</td>\n",
       "      <td>80000.0</td>\n",
       "      <td>HR</td>\n",
       "      <td>2020-09-14</td>\n",
       "    </tr>\n",
       "  </tbody>\n",
       "</table>\n",
       "</div>"
      ],
      "text/plain": [
       "      Name   Age           City   Salary   Department   Hire_Date\n",
       "0     John  25.0       New York  60000.0        Sales  2022-03-15\n",
       "1    Sarah  30.0    Los Angeles  75000.0    Marketing  2021-11-20\n",
       "2  Michael  28.0        Chicago  62000.0      Finance  2022-05-10\n",
       "3    Emily  24.0  San Francisco  70000.0  Engineering  2023-01-08\n",
       "4    David  35.0         Boston  80000.0           HR  2020-09-14"
      ]
     },
     "execution_count": 125,
     "metadata": {},
     "output_type": "execute_result"
    }
   ],
   "source": [
    "df.head()"
   ]
  },
  {
   "cell_type": "code",
   "execution_count": 126,
   "id": "4b27781b",
   "metadata": {},
   "outputs": [
    {
     "data": {
      "text/html": [
       "<div>\n",
       "<style scoped>\n",
       "    .dataframe tbody tr th:only-of-type {\n",
       "        vertical-align: middle;\n",
       "    }\n",
       "\n",
       "    .dataframe tbody tr th {\n",
       "        vertical-align: top;\n",
       "    }\n",
       "\n",
       "    .dataframe thead th {\n",
       "        text-align: right;\n",
       "    }\n",
       "</style>\n",
       "<table border=\"1\" class=\"dataframe\">\n",
       "  <thead>\n",
       "    <tr style=\"text-align: right;\">\n",
       "      <th></th>\n",
       "      <th>Name</th>\n",
       "      <th>Age</th>\n",
       "      <th>City</th>\n",
       "      <th>Salary</th>\n",
       "      <th>Department</th>\n",
       "      <th>Hire_Date</th>\n",
       "    </tr>\n",
       "  </thead>\n",
       "  <tbody>\n",
       "    <tr>\n",
       "      <th>18</th>\n",
       "      <td>Benjamin</td>\n",
       "      <td>35.0</td>\n",
       "      <td>Austin</td>\n",
       "      <td>76000.0</td>\n",
       "      <td>Marketing</td>\n",
       "      <td>2020-12-17</td>\n",
       "    </tr>\n",
       "    <tr>\n",
       "      <th>19</th>\n",
       "      <td>Sofia</td>\n",
       "      <td>30.0</td>\n",
       "      <td>Orlando</td>\n",
       "      <td>67000.0</td>\n",
       "      <td>Finance</td>\n",
       "      <td>2021-04-26</td>\n",
       "    </tr>\n",
       "    <tr>\n",
       "      <th>20</th>\n",
       "      <td>Michael</td>\n",
       "      <td>28.0</td>\n",
       "      <td>Chicago</td>\n",
       "      <td>62000.0</td>\n",
       "      <td>Finance</td>\n",
       "      <td>2022-05-10</td>\n",
       "    </tr>\n",
       "    <tr>\n",
       "      <th>21</th>\n",
       "      <td>James</td>\n",
       "      <td>26.0</td>\n",
       "      <td>Tampa</td>\n",
       "      <td>NaN</td>\n",
       "      <td>Engineering</td>\n",
       "      <td>2022-10-30</td>\n",
       "    </tr>\n",
       "    <tr>\n",
       "      <th>22</th>\n",
       "      <td>Lily</td>\n",
       "      <td>32.0</td>\n",
       "      <td>Charlotte</td>\n",
       "      <td>73000.0</td>\n",
       "      <td>HR</td>\n",
       "      <td>2023-05-18</td>\n",
       "    </tr>\n",
       "  </tbody>\n",
       "</table>\n",
       "</div>"
      ],
      "text/plain": [
       "        Name   Age       City   Salary   Department   Hire_Date\n",
       "18  Benjamin  35.0     Austin  76000.0    Marketing  2020-12-17\n",
       "19     Sofia  30.0    Orlando  67000.0      Finance  2021-04-26\n",
       "20   Michael  28.0    Chicago  62000.0      Finance  2022-05-10\n",
       "21     James  26.0      Tampa      NaN  Engineering  2022-10-30\n",
       "22      Lily  32.0  Charlotte  73000.0           HR  2023-05-18"
      ]
     },
     "execution_count": 126,
     "metadata": {},
     "output_type": "execute_result"
    }
   ],
   "source": [
    "df.tail()"
   ]
  },
  {
   "cell_type": "code",
   "execution_count": 127,
   "id": "cfcd0df2",
   "metadata": {},
   "outputs": [
    {
     "data": {
      "text/html": [
       "<div>\n",
       "<style scoped>\n",
       "    .dataframe tbody tr th:only-of-type {\n",
       "        vertical-align: middle;\n",
       "    }\n",
       "\n",
       "    .dataframe tbody tr th {\n",
       "        vertical-align: top;\n",
       "    }\n",
       "\n",
       "    .dataframe thead th {\n",
       "        text-align: right;\n",
       "    }\n",
       "</style>\n",
       "<table border=\"1\" class=\"dataframe\">\n",
       "  <thead>\n",
       "    <tr style=\"text-align: right;\">\n",
       "      <th></th>\n",
       "      <th>Age</th>\n",
       "      <th>Salary</th>\n",
       "    </tr>\n",
       "  </thead>\n",
       "  <tbody>\n",
       "    <tr>\n",
       "      <th>count</th>\n",
       "      <td>22.000000</td>\n",
       "      <td>22.000000</td>\n",
       "    </tr>\n",
       "    <tr>\n",
       "      <th>mean</th>\n",
       "      <td>29.772727</td>\n",
       "      <td>70090.909091</td>\n",
       "    </tr>\n",
       "    <tr>\n",
       "      <th>std</th>\n",
       "      <td>3.766163</td>\n",
       "      <td>7144.155726</td>\n",
       "    </tr>\n",
       "    <tr>\n",
       "      <th>min</th>\n",
       "      <td>23.000000</td>\n",
       "      <td>59000.000000</td>\n",
       "    </tr>\n",
       "    <tr>\n",
       "      <th>25%</th>\n",
       "      <td>27.250000</td>\n",
       "      <td>64250.000000</td>\n",
       "    </tr>\n",
       "    <tr>\n",
       "      <th>50%</th>\n",
       "      <td>29.500000</td>\n",
       "      <td>69500.000000</td>\n",
       "    </tr>\n",
       "    <tr>\n",
       "      <th>75%</th>\n",
       "      <td>32.750000</td>\n",
       "      <td>75750.000000</td>\n",
       "    </tr>\n",
       "    <tr>\n",
       "      <th>max</th>\n",
       "      <td>35.000000</td>\n",
       "      <td>82000.000000</td>\n",
       "    </tr>\n",
       "  </tbody>\n",
       "</table>\n",
       "</div>"
      ],
      "text/plain": [
       "             Age        Salary\n",
       "count  22.000000     22.000000\n",
       "mean   29.772727  70090.909091\n",
       "std     3.766163   7144.155726\n",
       "min    23.000000  59000.000000\n",
       "25%    27.250000  64250.000000\n",
       "50%    29.500000  69500.000000\n",
       "75%    32.750000  75750.000000\n",
       "max    35.000000  82000.000000"
      ]
     },
     "execution_count": 127,
     "metadata": {},
     "output_type": "execute_result"
    }
   ],
   "source": [
    "df.describe()"
   ]
  },
  {
   "cell_type": "code",
   "execution_count": 128,
   "id": "62f78f8f",
   "metadata": {},
   "outputs": [
    {
     "data": {
      "text/plain": [
       "(23, 6)"
      ]
     },
     "execution_count": 128,
     "metadata": {},
     "output_type": "execute_result"
    }
   ],
   "source": [
    "df.shape"
   ]
  },
  {
   "cell_type": "code",
   "execution_count": 129,
   "id": "d0e13a51",
   "metadata": {},
   "outputs": [
    {
     "name": "stdout",
     "output_type": "stream",
     "text": [
      "<class 'pandas.core.frame.DataFrame'>\n",
      "RangeIndex: 23 entries, 0 to 22\n",
      "Data columns (total 6 columns):\n",
      " #   Column      Non-Null Count  Dtype  \n",
      "---  ------      --------------  -----  \n",
      " 0   Name        23 non-null     object \n",
      " 1   Age         22 non-null     float64\n",
      " 2   City        22 non-null     object \n",
      " 3   Salary      22 non-null     float64\n",
      " 4   Department  22 non-null     object \n",
      " 5   Hire_Date   23 non-null     object \n",
      "dtypes: float64(2), object(4)\n",
      "memory usage: 1.2+ KB\n"
     ]
    }
   ],
   "source": [
    "df.info()"
   ]
  },
  {
   "cell_type": "code",
   "execution_count": 130,
   "id": "5bc08ad0",
   "metadata": {},
   "outputs": [
    {
     "data": {
      "text/plain": [
       "2"
      ]
     },
     "execution_count": 130,
     "metadata": {},
     "output_type": "execute_result"
    }
   ],
   "source": [
    "df.duplicated().sum()"
   ]
  },
  {
   "cell_type": "code",
   "execution_count": 131,
   "id": "876e7738",
   "metadata": {},
   "outputs": [
    {
     "data": {
      "text/html": [
       "<div>\n",
       "<style scoped>\n",
       "    .dataframe tbody tr th:only-of-type {\n",
       "        vertical-align: middle;\n",
       "    }\n",
       "\n",
       "    .dataframe tbody tr th {\n",
       "        vertical-align: top;\n",
       "    }\n",
       "\n",
       "    .dataframe thead th {\n",
       "        text-align: right;\n",
       "    }\n",
       "</style>\n",
       "<table border=\"1\" class=\"dataframe\">\n",
       "  <thead>\n",
       "    <tr style=\"text-align: right;\">\n",
       "      <th></th>\n",
       "      <th>Name</th>\n",
       "      <th>Age</th>\n",
       "      <th>City</th>\n",
       "      <th>Salary</th>\n",
       "      <th>Department</th>\n",
       "      <th>Hire_Date</th>\n",
       "    </tr>\n",
       "  </thead>\n",
       "  <tbody>\n",
       "    <tr>\n",
       "      <th>0</th>\n",
       "      <td>John</td>\n",
       "      <td>25.0</td>\n",
       "      <td>New York</td>\n",
       "      <td>60000.0</td>\n",
       "      <td>Sales</td>\n",
       "      <td>2022-03-15</td>\n",
       "    </tr>\n",
       "    <tr>\n",
       "      <th>1</th>\n",
       "      <td>Sarah</td>\n",
       "      <td>30.0</td>\n",
       "      <td>Los Angeles</td>\n",
       "      <td>75000.0</td>\n",
       "      <td>Marketing</td>\n",
       "      <td>2021-11-20</td>\n",
       "    </tr>\n",
       "    <tr>\n",
       "      <th>2</th>\n",
       "      <td>Michael</td>\n",
       "      <td>28.0</td>\n",
       "      <td>Chicago</td>\n",
       "      <td>62000.0</td>\n",
       "      <td>Finance</td>\n",
       "      <td>2022-05-10</td>\n",
       "    </tr>\n",
       "    <tr>\n",
       "      <th>3</th>\n",
       "      <td>Emily</td>\n",
       "      <td>24.0</td>\n",
       "      <td>San Francisco</td>\n",
       "      <td>70000.0</td>\n",
       "      <td>Engineering</td>\n",
       "      <td>2023-01-08</td>\n",
       "    </tr>\n",
       "    <tr>\n",
       "      <th>4</th>\n",
       "      <td>David</td>\n",
       "      <td>35.0</td>\n",
       "      <td>Boston</td>\n",
       "      <td>80000.0</td>\n",
       "      <td>HR</td>\n",
       "      <td>2020-09-14</td>\n",
       "    </tr>\n",
       "    <tr>\n",
       "      <th>5</th>\n",
       "      <td>Olivia</td>\n",
       "      <td>29.0</td>\n",
       "      <td>Houston</td>\n",
       "      <td>65000.0</td>\n",
       "      <td>Sales</td>\n",
       "      <td>2021-02-28</td>\n",
       "    </tr>\n",
       "    <tr>\n",
       "      <th>6</th>\n",
       "      <td>Sophia</td>\n",
       "      <td>26.0</td>\n",
       "      <td>Miami</td>\n",
       "      <td>63000.0</td>\n",
       "      <td>Marketing</td>\n",
       "      <td>2022-08-03</td>\n",
       "    </tr>\n",
       "    <tr>\n",
       "      <th>7</th>\n",
       "      <td>Daniel</td>\n",
       "      <td>32.0</td>\n",
       "      <td>Dallas</td>\n",
       "      <td>72000.0</td>\n",
       "      <td>Finance</td>\n",
       "      <td>2023-04-22</td>\n",
       "    </tr>\n",
       "    <tr>\n",
       "      <th>8</th>\n",
       "      <td>Ava</td>\n",
       "      <td>NaN</td>\n",
       "      <td>Seattle</td>\n",
       "      <td>68000.0</td>\n",
       "      <td>Engineering</td>\n",
       "      <td>2020-06-07</td>\n",
       "    </tr>\n",
       "    <tr>\n",
       "      <th>9</th>\n",
       "      <td>David</td>\n",
       "      <td>35.0</td>\n",
       "      <td>Boston</td>\n",
       "      <td>80000.0</td>\n",
       "      <td>NaN</td>\n",
       "      <td>2020-09-14</td>\n",
       "    </tr>\n",
       "    <tr>\n",
       "      <th>10</th>\n",
       "      <td>Ethan</td>\n",
       "      <td>31.0</td>\n",
       "      <td>Atlanta</td>\n",
       "      <td>71000.0</td>\n",
       "      <td>HR</td>\n",
       "      <td>2022-12-19</td>\n",
       "    </tr>\n",
       "    <tr>\n",
       "      <th>11</th>\n",
       "      <td>Liam</td>\n",
       "      <td>33.0</td>\n",
       "      <td>Denver</td>\n",
       "      <td>78000.0</td>\n",
       "      <td>Sales</td>\n",
       "      <td>2021-07-11</td>\n",
       "    </tr>\n",
       "    <tr>\n",
       "      <th>12</th>\n",
       "      <td>Mia</td>\n",
       "      <td>23.0</td>\n",
       "      <td>Phoenix</td>\n",
       "      <td>59000.0</td>\n",
       "      <td>Marketing</td>\n",
       "      <td>2023-02-14</td>\n",
       "    </tr>\n",
       "    <tr>\n",
       "      <th>13</th>\n",
       "      <td>Noah</td>\n",
       "      <td>34.0</td>\n",
       "      <td>Minneapolis</td>\n",
       "      <td>82000.0</td>\n",
       "      <td>Finance</td>\n",
       "      <td>2020-10-05</td>\n",
       "    </tr>\n",
       "    <tr>\n",
       "      <th>15</th>\n",
       "      <td>Charlotte</td>\n",
       "      <td>28.0</td>\n",
       "      <td>San Diego</td>\n",
       "      <td>66000.0</td>\n",
       "      <td>Engineering</td>\n",
       "      <td>2022-06-29</td>\n",
       "    </tr>\n",
       "    <tr>\n",
       "      <th>16</th>\n",
       "      <td>William</td>\n",
       "      <td>29.0</td>\n",
       "      <td>Portland</td>\n",
       "      <td>69000.0</td>\n",
       "      <td>HR</td>\n",
       "      <td>2021-09-03</td>\n",
       "    </tr>\n",
       "    <tr>\n",
       "      <th>17</th>\n",
       "      <td>Harper</td>\n",
       "      <td>27.0</td>\n",
       "      <td>NaN</td>\n",
       "      <td>64000.0</td>\n",
       "      <td>Sales</td>\n",
       "      <td>2023-03-08</td>\n",
       "    </tr>\n",
       "    <tr>\n",
       "      <th>18</th>\n",
       "      <td>Benjamin</td>\n",
       "      <td>35.0</td>\n",
       "      <td>Austin</td>\n",
       "      <td>76000.0</td>\n",
       "      <td>Marketing</td>\n",
       "      <td>2020-12-17</td>\n",
       "    </tr>\n",
       "    <tr>\n",
       "      <th>19</th>\n",
       "      <td>Sofia</td>\n",
       "      <td>30.0</td>\n",
       "      <td>Orlando</td>\n",
       "      <td>67000.0</td>\n",
       "      <td>Finance</td>\n",
       "      <td>2021-04-26</td>\n",
       "    </tr>\n",
       "    <tr>\n",
       "      <th>21</th>\n",
       "      <td>James</td>\n",
       "      <td>26.0</td>\n",
       "      <td>Tampa</td>\n",
       "      <td>NaN</td>\n",
       "      <td>Engineering</td>\n",
       "      <td>2022-10-30</td>\n",
       "    </tr>\n",
       "    <tr>\n",
       "      <th>22</th>\n",
       "      <td>Lily</td>\n",
       "      <td>32.0</td>\n",
       "      <td>Charlotte</td>\n",
       "      <td>73000.0</td>\n",
       "      <td>HR</td>\n",
       "      <td>2023-05-18</td>\n",
       "    </tr>\n",
       "  </tbody>\n",
       "</table>\n",
       "</div>"
      ],
      "text/plain": [
       "         Name   Age           City   Salary   Department   Hire_Date\n",
       "0        John  25.0       New York  60000.0        Sales  2022-03-15\n",
       "1       Sarah  30.0    Los Angeles  75000.0    Marketing  2021-11-20\n",
       "2     Michael  28.0        Chicago  62000.0      Finance  2022-05-10\n",
       "3       Emily  24.0  San Francisco  70000.0  Engineering  2023-01-08\n",
       "4       David  35.0         Boston  80000.0           HR  2020-09-14\n",
       "5      Olivia  29.0        Houston  65000.0        Sales  2021-02-28\n",
       "6      Sophia  26.0          Miami  63000.0    Marketing  2022-08-03\n",
       "7      Daniel  32.0         Dallas  72000.0      Finance  2023-04-22\n",
       "8         Ava   NaN        Seattle  68000.0  Engineering  2020-06-07\n",
       "9       David  35.0         Boston  80000.0          NaN  2020-09-14\n",
       "10      Ethan  31.0        Atlanta  71000.0           HR  2022-12-19\n",
       "11       Liam  33.0         Denver  78000.0        Sales  2021-07-11\n",
       "12        Mia  23.0        Phoenix  59000.0    Marketing  2023-02-14\n",
       "13       Noah  34.0    Minneapolis  82000.0      Finance  2020-10-05\n",
       "15  Charlotte  28.0      San Diego  66000.0  Engineering  2022-06-29\n",
       "16    William  29.0       Portland  69000.0           HR  2021-09-03\n",
       "17     Harper  27.0            NaN  64000.0        Sales  2023-03-08\n",
       "18   Benjamin  35.0         Austin  76000.0    Marketing  2020-12-17\n",
       "19      Sofia  30.0        Orlando  67000.0      Finance  2021-04-26\n",
       "21      James  26.0          Tampa      NaN  Engineering  2022-10-30\n",
       "22       Lily  32.0      Charlotte  73000.0           HR  2023-05-18"
      ]
     },
     "execution_count": 131,
     "metadata": {},
     "output_type": "execute_result"
    }
   ],
   "source": [
    "df.drop_duplicates()"
   ]
  },
  {
   "cell_type": "code",
   "execution_count": 132,
   "id": "7c51ef55",
   "metadata": {},
   "outputs": [
    {
     "data": {
      "text/html": [
       "<div>\n",
       "<style scoped>\n",
       "    .dataframe tbody tr th:only-of-type {\n",
       "        vertical-align: middle;\n",
       "    }\n",
       "\n",
       "    .dataframe tbody tr th {\n",
       "        vertical-align: top;\n",
       "    }\n",
       "\n",
       "    .dataframe thead th {\n",
       "        text-align: right;\n",
       "    }\n",
       "</style>\n",
       "<table border=\"1\" class=\"dataframe\">\n",
       "  <thead>\n",
       "    <tr style=\"text-align: right;\">\n",
       "      <th></th>\n",
       "      <th>Name</th>\n",
       "      <th>Age</th>\n",
       "      <th>City</th>\n",
       "      <th>Salary</th>\n",
       "      <th>Department</th>\n",
       "      <th>Hire_Date</th>\n",
       "    </tr>\n",
       "  </thead>\n",
       "  <tbody>\n",
       "    <tr>\n",
       "      <th>0</th>\n",
       "      <td>John</td>\n",
       "      <td>25.0</td>\n",
       "      <td>New York</td>\n",
       "      <td>60000.0</td>\n",
       "      <td>Sales</td>\n",
       "      <td>2022-03-15</td>\n",
       "    </tr>\n",
       "    <tr>\n",
       "      <th>1</th>\n",
       "      <td>Sarah</td>\n",
       "      <td>30.0</td>\n",
       "      <td>Los Angeles</td>\n",
       "      <td>75000.0</td>\n",
       "      <td>Marketing</td>\n",
       "      <td>2021-11-20</td>\n",
       "    </tr>\n",
       "    <tr>\n",
       "      <th>2</th>\n",
       "      <td>Michael</td>\n",
       "      <td>28.0</td>\n",
       "      <td>Chicago</td>\n",
       "      <td>62000.0</td>\n",
       "      <td>Finance</td>\n",
       "      <td>2022-05-10</td>\n",
       "    </tr>\n",
       "    <tr>\n",
       "      <th>3</th>\n",
       "      <td>Emily</td>\n",
       "      <td>24.0</td>\n",
       "      <td>San Francisco</td>\n",
       "      <td>70000.0</td>\n",
       "      <td>Engineering</td>\n",
       "      <td>2023-01-08</td>\n",
       "    </tr>\n",
       "    <tr>\n",
       "      <th>4</th>\n",
       "      <td>David</td>\n",
       "      <td>35.0</td>\n",
       "      <td>Boston</td>\n",
       "      <td>80000.0</td>\n",
       "      <td>HR</td>\n",
       "      <td>2020-09-14</td>\n",
       "    </tr>\n",
       "    <tr>\n",
       "      <th>5</th>\n",
       "      <td>Olivia</td>\n",
       "      <td>29.0</td>\n",
       "      <td>Houston</td>\n",
       "      <td>65000.0</td>\n",
       "      <td>Sales</td>\n",
       "      <td>2021-02-28</td>\n",
       "    </tr>\n",
       "    <tr>\n",
       "      <th>6</th>\n",
       "      <td>Sophia</td>\n",
       "      <td>26.0</td>\n",
       "      <td>Miami</td>\n",
       "      <td>63000.0</td>\n",
       "      <td>Marketing</td>\n",
       "      <td>2022-08-03</td>\n",
       "    </tr>\n",
       "    <tr>\n",
       "      <th>7</th>\n",
       "      <td>Daniel</td>\n",
       "      <td>32.0</td>\n",
       "      <td>Dallas</td>\n",
       "      <td>72000.0</td>\n",
       "      <td>Finance</td>\n",
       "      <td>2023-04-22</td>\n",
       "    </tr>\n",
       "    <tr>\n",
       "      <th>8</th>\n",
       "      <td>Ava</td>\n",
       "      <td>NaN</td>\n",
       "      <td>Seattle</td>\n",
       "      <td>68000.0</td>\n",
       "      <td>Engineering</td>\n",
       "      <td>2020-06-07</td>\n",
       "    </tr>\n",
       "    <tr>\n",
       "      <th>10</th>\n",
       "      <td>Ethan</td>\n",
       "      <td>31.0</td>\n",
       "      <td>Atlanta</td>\n",
       "      <td>71000.0</td>\n",
       "      <td>HR</td>\n",
       "      <td>2022-12-19</td>\n",
       "    </tr>\n",
       "    <tr>\n",
       "      <th>11</th>\n",
       "      <td>Liam</td>\n",
       "      <td>33.0</td>\n",
       "      <td>Denver</td>\n",
       "      <td>78000.0</td>\n",
       "      <td>Sales</td>\n",
       "      <td>2021-07-11</td>\n",
       "    </tr>\n",
       "    <tr>\n",
       "      <th>12</th>\n",
       "      <td>Mia</td>\n",
       "      <td>23.0</td>\n",
       "      <td>Phoenix</td>\n",
       "      <td>59000.0</td>\n",
       "      <td>Marketing</td>\n",
       "      <td>2023-02-14</td>\n",
       "    </tr>\n",
       "    <tr>\n",
       "      <th>13</th>\n",
       "      <td>Noah</td>\n",
       "      <td>34.0</td>\n",
       "      <td>Minneapolis</td>\n",
       "      <td>82000.0</td>\n",
       "      <td>Finance</td>\n",
       "      <td>2020-10-05</td>\n",
       "    </tr>\n",
       "    <tr>\n",
       "      <th>15</th>\n",
       "      <td>Charlotte</td>\n",
       "      <td>28.0</td>\n",
       "      <td>San Diego</td>\n",
       "      <td>66000.0</td>\n",
       "      <td>Engineering</td>\n",
       "      <td>2022-06-29</td>\n",
       "    </tr>\n",
       "    <tr>\n",
       "      <th>16</th>\n",
       "      <td>William</td>\n",
       "      <td>29.0</td>\n",
       "      <td>Portland</td>\n",
       "      <td>69000.0</td>\n",
       "      <td>HR</td>\n",
       "      <td>2021-09-03</td>\n",
       "    </tr>\n",
       "    <tr>\n",
       "      <th>17</th>\n",
       "      <td>Harper</td>\n",
       "      <td>27.0</td>\n",
       "      <td>NaN</td>\n",
       "      <td>64000.0</td>\n",
       "      <td>Sales</td>\n",
       "      <td>2023-03-08</td>\n",
       "    </tr>\n",
       "    <tr>\n",
       "      <th>18</th>\n",
       "      <td>Benjamin</td>\n",
       "      <td>35.0</td>\n",
       "      <td>Austin</td>\n",
       "      <td>76000.0</td>\n",
       "      <td>Marketing</td>\n",
       "      <td>2020-12-17</td>\n",
       "    </tr>\n",
       "    <tr>\n",
       "      <th>19</th>\n",
       "      <td>Sofia</td>\n",
       "      <td>30.0</td>\n",
       "      <td>Orlando</td>\n",
       "      <td>67000.0</td>\n",
       "      <td>Finance</td>\n",
       "      <td>2021-04-26</td>\n",
       "    </tr>\n",
       "    <tr>\n",
       "      <th>21</th>\n",
       "      <td>James</td>\n",
       "      <td>26.0</td>\n",
       "      <td>Tampa</td>\n",
       "      <td>NaN</td>\n",
       "      <td>Engineering</td>\n",
       "      <td>2022-10-30</td>\n",
       "    </tr>\n",
       "    <tr>\n",
       "      <th>22</th>\n",
       "      <td>Lily</td>\n",
       "      <td>32.0</td>\n",
       "      <td>Charlotte</td>\n",
       "      <td>73000.0</td>\n",
       "      <td>HR</td>\n",
       "      <td>2023-05-18</td>\n",
       "    </tr>\n",
       "  </tbody>\n",
       "</table>\n",
       "</div>"
      ],
      "text/plain": [
       "         Name   Age           City   Salary   Department   Hire_Date\n",
       "0        John  25.0       New York  60000.0        Sales  2022-03-15\n",
       "1       Sarah  30.0    Los Angeles  75000.0    Marketing  2021-11-20\n",
       "2     Michael  28.0        Chicago  62000.0      Finance  2022-05-10\n",
       "3       Emily  24.0  San Francisco  70000.0  Engineering  2023-01-08\n",
       "4       David  35.0         Boston  80000.0           HR  2020-09-14\n",
       "5      Olivia  29.0        Houston  65000.0        Sales  2021-02-28\n",
       "6      Sophia  26.0          Miami  63000.0    Marketing  2022-08-03\n",
       "7      Daniel  32.0         Dallas  72000.0      Finance  2023-04-22\n",
       "8         Ava   NaN        Seattle  68000.0  Engineering  2020-06-07\n",
       "10      Ethan  31.0        Atlanta  71000.0           HR  2022-12-19\n",
       "11       Liam  33.0         Denver  78000.0        Sales  2021-07-11\n",
       "12        Mia  23.0        Phoenix  59000.0    Marketing  2023-02-14\n",
       "13       Noah  34.0    Minneapolis  82000.0      Finance  2020-10-05\n",
       "15  Charlotte  28.0      San Diego  66000.0  Engineering  2022-06-29\n",
       "16    William  29.0       Portland  69000.0           HR  2021-09-03\n",
       "17     Harper  27.0            NaN  64000.0        Sales  2023-03-08\n",
       "18   Benjamin  35.0         Austin  76000.0    Marketing  2020-12-17\n",
       "19      Sofia  30.0        Orlando  67000.0      Finance  2021-04-26\n",
       "21      James  26.0          Tampa      NaN  Engineering  2022-10-30\n",
       "22       Lily  32.0      Charlotte  73000.0           HR  2023-05-18"
      ]
     },
     "execution_count": 132,
     "metadata": {},
     "output_type": "execute_result"
    }
   ],
   "source": [
    "df.drop_duplicates(subset=['Name', 'City'])"
   ]
  },
  {
   "cell_type": "code",
   "execution_count": 133,
   "id": "4b2b76cc",
   "metadata": {},
   "outputs": [
    {
     "data": {
      "text/plain": [
       "Name          0\n",
       "Age           1\n",
       "City          1\n",
       "Salary        1\n",
       "Department    1\n",
       "Hire_Date     0\n",
       "dtype: int64"
      ]
     },
     "execution_count": 133,
     "metadata": {},
     "output_type": "execute_result"
    }
   ],
   "source": [
    "df.isnull().sum()"
   ]
  },
  {
   "cell_type": "code",
   "execution_count": 134,
   "id": "4401731c",
   "metadata": {},
   "outputs": [
    {
     "data": {
      "text/html": [
       "<div>\n",
       "<style scoped>\n",
       "    .dataframe tbody tr th:only-of-type {\n",
       "        vertical-align: middle;\n",
       "    }\n",
       "\n",
       "    .dataframe tbody tr th {\n",
       "        vertical-align: top;\n",
       "    }\n",
       "\n",
       "    .dataframe thead th {\n",
       "        text-align: right;\n",
       "    }\n",
       "</style>\n",
       "<table border=\"1\" class=\"dataframe\">\n",
       "  <thead>\n",
       "    <tr style=\"text-align: right;\">\n",
       "      <th></th>\n",
       "      <th>Name</th>\n",
       "      <th>Age</th>\n",
       "      <th>City</th>\n",
       "      <th>Salary</th>\n",
       "      <th>Department</th>\n",
       "      <th>Hire_Date</th>\n",
       "    </tr>\n",
       "  </thead>\n",
       "  <tbody>\n",
       "    <tr>\n",
       "      <th>0</th>\n",
       "      <td>John</td>\n",
       "      <td>25.0</td>\n",
       "      <td>New York</td>\n",
       "      <td>60000.0</td>\n",
       "      <td>Sales</td>\n",
       "      <td>2022-03-15</td>\n",
       "    </tr>\n",
       "    <tr>\n",
       "      <th>1</th>\n",
       "      <td>Sarah</td>\n",
       "      <td>30.0</td>\n",
       "      <td>Los Angeles</td>\n",
       "      <td>75000.0</td>\n",
       "      <td>Marketing</td>\n",
       "      <td>2021-11-20</td>\n",
       "    </tr>\n",
       "    <tr>\n",
       "      <th>2</th>\n",
       "      <td>Michael</td>\n",
       "      <td>28.0</td>\n",
       "      <td>Chicago</td>\n",
       "      <td>62000.0</td>\n",
       "      <td>Finance</td>\n",
       "      <td>2022-05-10</td>\n",
       "    </tr>\n",
       "    <tr>\n",
       "      <th>3</th>\n",
       "      <td>Emily</td>\n",
       "      <td>24.0</td>\n",
       "      <td>San Francisco</td>\n",
       "      <td>70000.0</td>\n",
       "      <td>Engineering</td>\n",
       "      <td>2023-01-08</td>\n",
       "    </tr>\n",
       "    <tr>\n",
       "      <th>4</th>\n",
       "      <td>David</td>\n",
       "      <td>35.0</td>\n",
       "      <td>Boston</td>\n",
       "      <td>80000.0</td>\n",
       "      <td>HR</td>\n",
       "      <td>2020-09-14</td>\n",
       "    </tr>\n",
       "    <tr>\n",
       "      <th>5</th>\n",
       "      <td>Olivia</td>\n",
       "      <td>29.0</td>\n",
       "      <td>Houston</td>\n",
       "      <td>65000.0</td>\n",
       "      <td>Sales</td>\n",
       "      <td>2021-02-28</td>\n",
       "    </tr>\n",
       "    <tr>\n",
       "      <th>6</th>\n",
       "      <td>Sophia</td>\n",
       "      <td>26.0</td>\n",
       "      <td>Miami</td>\n",
       "      <td>63000.0</td>\n",
       "      <td>Marketing</td>\n",
       "      <td>2022-08-03</td>\n",
       "    </tr>\n",
       "    <tr>\n",
       "      <th>7</th>\n",
       "      <td>Daniel</td>\n",
       "      <td>32.0</td>\n",
       "      <td>Dallas</td>\n",
       "      <td>72000.0</td>\n",
       "      <td>Finance</td>\n",
       "      <td>2023-04-22</td>\n",
       "    </tr>\n",
       "    <tr>\n",
       "      <th>10</th>\n",
       "      <td>Ethan</td>\n",
       "      <td>31.0</td>\n",
       "      <td>Atlanta</td>\n",
       "      <td>71000.0</td>\n",
       "      <td>HR</td>\n",
       "      <td>2022-12-19</td>\n",
       "    </tr>\n",
       "    <tr>\n",
       "      <th>11</th>\n",
       "      <td>Liam</td>\n",
       "      <td>33.0</td>\n",
       "      <td>Denver</td>\n",
       "      <td>78000.0</td>\n",
       "      <td>Sales</td>\n",
       "      <td>2021-07-11</td>\n",
       "    </tr>\n",
       "    <tr>\n",
       "      <th>12</th>\n",
       "      <td>Mia</td>\n",
       "      <td>23.0</td>\n",
       "      <td>Phoenix</td>\n",
       "      <td>59000.0</td>\n",
       "      <td>Marketing</td>\n",
       "      <td>2023-02-14</td>\n",
       "    </tr>\n",
       "    <tr>\n",
       "      <th>13</th>\n",
       "      <td>Noah</td>\n",
       "      <td>34.0</td>\n",
       "      <td>Minneapolis</td>\n",
       "      <td>82000.0</td>\n",
       "      <td>Finance</td>\n",
       "      <td>2020-10-05</td>\n",
       "    </tr>\n",
       "    <tr>\n",
       "      <th>14</th>\n",
       "      <td>David</td>\n",
       "      <td>35.0</td>\n",
       "      <td>Boston</td>\n",
       "      <td>80000.0</td>\n",
       "      <td>HR</td>\n",
       "      <td>2020-09-14</td>\n",
       "    </tr>\n",
       "    <tr>\n",
       "      <th>15</th>\n",
       "      <td>Charlotte</td>\n",
       "      <td>28.0</td>\n",
       "      <td>San Diego</td>\n",
       "      <td>66000.0</td>\n",
       "      <td>Engineering</td>\n",
       "      <td>2022-06-29</td>\n",
       "    </tr>\n",
       "    <tr>\n",
       "      <th>16</th>\n",
       "      <td>William</td>\n",
       "      <td>29.0</td>\n",
       "      <td>Portland</td>\n",
       "      <td>69000.0</td>\n",
       "      <td>HR</td>\n",
       "      <td>2021-09-03</td>\n",
       "    </tr>\n",
       "    <tr>\n",
       "      <th>18</th>\n",
       "      <td>Benjamin</td>\n",
       "      <td>35.0</td>\n",
       "      <td>Austin</td>\n",
       "      <td>76000.0</td>\n",
       "      <td>Marketing</td>\n",
       "      <td>2020-12-17</td>\n",
       "    </tr>\n",
       "    <tr>\n",
       "      <th>19</th>\n",
       "      <td>Sofia</td>\n",
       "      <td>30.0</td>\n",
       "      <td>Orlando</td>\n",
       "      <td>67000.0</td>\n",
       "      <td>Finance</td>\n",
       "      <td>2021-04-26</td>\n",
       "    </tr>\n",
       "    <tr>\n",
       "      <th>20</th>\n",
       "      <td>Michael</td>\n",
       "      <td>28.0</td>\n",
       "      <td>Chicago</td>\n",
       "      <td>62000.0</td>\n",
       "      <td>Finance</td>\n",
       "      <td>2022-05-10</td>\n",
       "    </tr>\n",
       "    <tr>\n",
       "      <th>22</th>\n",
       "      <td>Lily</td>\n",
       "      <td>32.0</td>\n",
       "      <td>Charlotte</td>\n",
       "      <td>73000.0</td>\n",
       "      <td>HR</td>\n",
       "      <td>2023-05-18</td>\n",
       "    </tr>\n",
       "  </tbody>\n",
       "</table>\n",
       "</div>"
      ],
      "text/plain": [
       "         Name   Age           City   Salary   Department   Hire_Date\n",
       "0        John  25.0       New York  60000.0        Sales  2022-03-15\n",
       "1       Sarah  30.0    Los Angeles  75000.0    Marketing  2021-11-20\n",
       "2     Michael  28.0        Chicago  62000.0      Finance  2022-05-10\n",
       "3       Emily  24.0  San Francisco  70000.0  Engineering  2023-01-08\n",
       "4       David  35.0         Boston  80000.0           HR  2020-09-14\n",
       "5      Olivia  29.0        Houston  65000.0        Sales  2021-02-28\n",
       "6      Sophia  26.0          Miami  63000.0    Marketing  2022-08-03\n",
       "7      Daniel  32.0         Dallas  72000.0      Finance  2023-04-22\n",
       "10      Ethan  31.0        Atlanta  71000.0           HR  2022-12-19\n",
       "11       Liam  33.0         Denver  78000.0        Sales  2021-07-11\n",
       "12        Mia  23.0        Phoenix  59000.0    Marketing  2023-02-14\n",
       "13       Noah  34.0    Minneapolis  82000.0      Finance  2020-10-05\n",
       "14      David  35.0         Boston  80000.0           HR  2020-09-14\n",
       "15  Charlotte  28.0      San Diego  66000.0  Engineering  2022-06-29\n",
       "16    William  29.0       Portland  69000.0           HR  2021-09-03\n",
       "18   Benjamin  35.0         Austin  76000.0    Marketing  2020-12-17\n",
       "19      Sofia  30.0        Orlando  67000.0      Finance  2021-04-26\n",
       "20    Michael  28.0        Chicago  62000.0      Finance  2022-05-10\n",
       "22       Lily  32.0      Charlotte  73000.0           HR  2023-05-18"
      ]
     },
     "execution_count": 134,
     "metadata": {},
     "output_type": "execute_result"
    }
   ],
   "source": [
    "df.dropna()"
   ]
  },
  {
   "cell_type": "code",
   "execution_count": 135,
   "id": "9fce34ec",
   "metadata": {},
   "outputs": [
    {
     "data": {
      "text/plain": [
       "35.0    4\n",
       "28.0    3\n",
       "30.0    2\n",
       "29.0    2\n",
       "26.0    2\n",
       "32.0    2\n",
       "25.0    1\n",
       "24.0    1\n",
       "31.0    1\n",
       "33.0    1\n",
       "23.0    1\n",
       "34.0    1\n",
       "27.0    1\n",
       "Name: Age, dtype: int64"
      ]
     },
     "execution_count": 135,
     "metadata": {},
     "output_type": "execute_result"
    }
   ],
   "source": [
    "df['Age'].value_counts()"
   ]
  },
  {
   "cell_type": "code",
   "execution_count": 136,
   "id": "6df659f4",
   "metadata": {},
   "outputs": [
    {
     "data": {
      "text/html": [
       "<div>\n",
       "<style scoped>\n",
       "    .dataframe tbody tr th:only-of-type {\n",
       "        vertical-align: middle;\n",
       "    }\n",
       "\n",
       "    .dataframe tbody tr th {\n",
       "        vertical-align: top;\n",
       "    }\n",
       "\n",
       "    .dataframe thead th {\n",
       "        text-align: right;\n",
       "    }\n",
       "</style>\n",
       "<table border=\"1\" class=\"dataframe\">\n",
       "  <thead>\n",
       "    <tr style=\"text-align: right;\">\n",
       "      <th></th>\n",
       "      <th>Name</th>\n",
       "      <th>Age</th>\n",
       "      <th>City</th>\n",
       "      <th>Salary</th>\n",
       "      <th>Department</th>\n",
       "      <th>Hire_Date</th>\n",
       "    </tr>\n",
       "  </thead>\n",
       "  <tbody>\n",
       "    <tr>\n",
       "      <th>12</th>\n",
       "      <td>Mia</td>\n",
       "      <td>23.0</td>\n",
       "      <td>Phoenix</td>\n",
       "      <td>59000.0</td>\n",
       "      <td>Marketing</td>\n",
       "      <td>2023-02-14</td>\n",
       "    </tr>\n",
       "    <tr>\n",
       "      <th>0</th>\n",
       "      <td>John</td>\n",
       "      <td>25.0</td>\n",
       "      <td>New York</td>\n",
       "      <td>60000.0</td>\n",
       "      <td>Sales</td>\n",
       "      <td>2022-03-15</td>\n",
       "    </tr>\n",
       "    <tr>\n",
       "      <th>2</th>\n",
       "      <td>Michael</td>\n",
       "      <td>28.0</td>\n",
       "      <td>Chicago</td>\n",
       "      <td>62000.0</td>\n",
       "      <td>Finance</td>\n",
       "      <td>2022-05-10</td>\n",
       "    </tr>\n",
       "    <tr>\n",
       "      <th>20</th>\n",
       "      <td>Michael</td>\n",
       "      <td>28.0</td>\n",
       "      <td>Chicago</td>\n",
       "      <td>62000.0</td>\n",
       "      <td>Finance</td>\n",
       "      <td>2022-05-10</td>\n",
       "    </tr>\n",
       "    <tr>\n",
       "      <th>6</th>\n",
       "      <td>Sophia</td>\n",
       "      <td>26.0</td>\n",
       "      <td>Miami</td>\n",
       "      <td>63000.0</td>\n",
       "      <td>Marketing</td>\n",
       "      <td>2022-08-03</td>\n",
       "    </tr>\n",
       "    <tr>\n",
       "      <th>17</th>\n",
       "      <td>Harper</td>\n",
       "      <td>27.0</td>\n",
       "      <td>NaN</td>\n",
       "      <td>64000.0</td>\n",
       "      <td>Sales</td>\n",
       "      <td>2023-03-08</td>\n",
       "    </tr>\n",
       "    <tr>\n",
       "      <th>5</th>\n",
       "      <td>Olivia</td>\n",
       "      <td>29.0</td>\n",
       "      <td>Houston</td>\n",
       "      <td>65000.0</td>\n",
       "      <td>Sales</td>\n",
       "      <td>2021-02-28</td>\n",
       "    </tr>\n",
       "    <tr>\n",
       "      <th>15</th>\n",
       "      <td>Charlotte</td>\n",
       "      <td>28.0</td>\n",
       "      <td>San Diego</td>\n",
       "      <td>66000.0</td>\n",
       "      <td>Engineering</td>\n",
       "      <td>2022-06-29</td>\n",
       "    </tr>\n",
       "    <tr>\n",
       "      <th>19</th>\n",
       "      <td>Sofia</td>\n",
       "      <td>30.0</td>\n",
       "      <td>Orlando</td>\n",
       "      <td>67000.0</td>\n",
       "      <td>Finance</td>\n",
       "      <td>2021-04-26</td>\n",
       "    </tr>\n",
       "    <tr>\n",
       "      <th>8</th>\n",
       "      <td>Ava</td>\n",
       "      <td>NaN</td>\n",
       "      <td>Seattle</td>\n",
       "      <td>68000.0</td>\n",
       "      <td>Engineering</td>\n",
       "      <td>2020-06-07</td>\n",
       "    </tr>\n",
       "    <tr>\n",
       "      <th>16</th>\n",
       "      <td>William</td>\n",
       "      <td>29.0</td>\n",
       "      <td>Portland</td>\n",
       "      <td>69000.0</td>\n",
       "      <td>HR</td>\n",
       "      <td>2021-09-03</td>\n",
       "    </tr>\n",
       "    <tr>\n",
       "      <th>3</th>\n",
       "      <td>Emily</td>\n",
       "      <td>24.0</td>\n",
       "      <td>San Francisco</td>\n",
       "      <td>70000.0</td>\n",
       "      <td>Engineering</td>\n",
       "      <td>2023-01-08</td>\n",
       "    </tr>\n",
       "    <tr>\n",
       "      <th>10</th>\n",
       "      <td>Ethan</td>\n",
       "      <td>31.0</td>\n",
       "      <td>Atlanta</td>\n",
       "      <td>71000.0</td>\n",
       "      <td>HR</td>\n",
       "      <td>2022-12-19</td>\n",
       "    </tr>\n",
       "    <tr>\n",
       "      <th>7</th>\n",
       "      <td>Daniel</td>\n",
       "      <td>32.0</td>\n",
       "      <td>Dallas</td>\n",
       "      <td>72000.0</td>\n",
       "      <td>Finance</td>\n",
       "      <td>2023-04-22</td>\n",
       "    </tr>\n",
       "    <tr>\n",
       "      <th>22</th>\n",
       "      <td>Lily</td>\n",
       "      <td>32.0</td>\n",
       "      <td>Charlotte</td>\n",
       "      <td>73000.0</td>\n",
       "      <td>HR</td>\n",
       "      <td>2023-05-18</td>\n",
       "    </tr>\n",
       "    <tr>\n",
       "      <th>1</th>\n",
       "      <td>Sarah</td>\n",
       "      <td>30.0</td>\n",
       "      <td>Los Angeles</td>\n",
       "      <td>75000.0</td>\n",
       "      <td>Marketing</td>\n",
       "      <td>2021-11-20</td>\n",
       "    </tr>\n",
       "    <tr>\n",
       "      <th>18</th>\n",
       "      <td>Benjamin</td>\n",
       "      <td>35.0</td>\n",
       "      <td>Austin</td>\n",
       "      <td>76000.0</td>\n",
       "      <td>Marketing</td>\n",
       "      <td>2020-12-17</td>\n",
       "    </tr>\n",
       "    <tr>\n",
       "      <th>11</th>\n",
       "      <td>Liam</td>\n",
       "      <td>33.0</td>\n",
       "      <td>Denver</td>\n",
       "      <td>78000.0</td>\n",
       "      <td>Sales</td>\n",
       "      <td>2021-07-11</td>\n",
       "    </tr>\n",
       "    <tr>\n",
       "      <th>14</th>\n",
       "      <td>David</td>\n",
       "      <td>35.0</td>\n",
       "      <td>Boston</td>\n",
       "      <td>80000.0</td>\n",
       "      <td>HR</td>\n",
       "      <td>2020-09-14</td>\n",
       "    </tr>\n",
       "    <tr>\n",
       "      <th>9</th>\n",
       "      <td>David</td>\n",
       "      <td>35.0</td>\n",
       "      <td>Boston</td>\n",
       "      <td>80000.0</td>\n",
       "      <td>NaN</td>\n",
       "      <td>2020-09-14</td>\n",
       "    </tr>\n",
       "    <tr>\n",
       "      <th>4</th>\n",
       "      <td>David</td>\n",
       "      <td>35.0</td>\n",
       "      <td>Boston</td>\n",
       "      <td>80000.0</td>\n",
       "      <td>HR</td>\n",
       "      <td>2020-09-14</td>\n",
       "    </tr>\n",
       "    <tr>\n",
       "      <th>13</th>\n",
       "      <td>Noah</td>\n",
       "      <td>34.0</td>\n",
       "      <td>Minneapolis</td>\n",
       "      <td>82000.0</td>\n",
       "      <td>Finance</td>\n",
       "      <td>2020-10-05</td>\n",
       "    </tr>\n",
       "    <tr>\n",
       "      <th>21</th>\n",
       "      <td>James</td>\n",
       "      <td>26.0</td>\n",
       "      <td>Tampa</td>\n",
       "      <td>NaN</td>\n",
       "      <td>Engineering</td>\n",
       "      <td>2022-10-30</td>\n",
       "    </tr>\n",
       "  </tbody>\n",
       "</table>\n",
       "</div>"
      ],
      "text/plain": [
       "         Name   Age           City   Salary   Department   Hire_Date\n",
       "12        Mia  23.0        Phoenix  59000.0    Marketing  2023-02-14\n",
       "0        John  25.0       New York  60000.0        Sales  2022-03-15\n",
       "2     Michael  28.0        Chicago  62000.0      Finance  2022-05-10\n",
       "20    Michael  28.0        Chicago  62000.0      Finance  2022-05-10\n",
       "6      Sophia  26.0          Miami  63000.0    Marketing  2022-08-03\n",
       "17     Harper  27.0            NaN  64000.0        Sales  2023-03-08\n",
       "5      Olivia  29.0        Houston  65000.0        Sales  2021-02-28\n",
       "15  Charlotte  28.0      San Diego  66000.0  Engineering  2022-06-29\n",
       "19      Sofia  30.0        Orlando  67000.0      Finance  2021-04-26\n",
       "8         Ava   NaN        Seattle  68000.0  Engineering  2020-06-07\n",
       "16    William  29.0       Portland  69000.0           HR  2021-09-03\n",
       "3       Emily  24.0  San Francisco  70000.0  Engineering  2023-01-08\n",
       "10      Ethan  31.0        Atlanta  71000.0           HR  2022-12-19\n",
       "7      Daniel  32.0         Dallas  72000.0      Finance  2023-04-22\n",
       "22       Lily  32.0      Charlotte  73000.0           HR  2023-05-18\n",
       "1       Sarah  30.0    Los Angeles  75000.0    Marketing  2021-11-20\n",
       "18   Benjamin  35.0         Austin  76000.0    Marketing  2020-12-17\n",
       "11       Liam  33.0         Denver  78000.0        Sales  2021-07-11\n",
       "14      David  35.0         Boston  80000.0           HR  2020-09-14\n",
       "9       David  35.0         Boston  80000.0          NaN  2020-09-14\n",
       "4       David  35.0         Boston  80000.0           HR  2020-09-14\n",
       "13       Noah  34.0    Minneapolis  82000.0      Finance  2020-10-05\n",
       "21      James  26.0          Tampa      NaN  Engineering  2022-10-30"
      ]
     },
     "execution_count": 136,
     "metadata": {},
     "output_type": "execute_result"
    }
   ],
   "source": [
    "# ascending=True\n",
    "df = df.sort_values(by='Salary')\n",
    "df"
   ]
  },
  {
   "cell_type": "code",
   "execution_count": 137,
   "id": "1d943eea",
   "metadata": {},
   "outputs": [],
   "source": [
    "df1 = df.copy() # copy a DataFrame"
   ]
  },
  {
   "cell_type": "code",
   "execution_count": 138,
   "id": "18e27f66",
   "metadata": {},
   "outputs": [],
   "source": [
    "filtered_df = df[df['Age'] > 30]\n"
   ]
  },
  {
   "cell_type": "code",
   "execution_count": 139,
   "id": "5dbaf2c6",
   "metadata": {},
   "outputs": [],
   "source": [
    "filtered_df = df[df['Department'] == 'Engineering']\n"
   ]
  },
  {
   "cell_type": "code",
   "execution_count": 140,
   "id": "2310db66",
   "metadata": {},
   "outputs": [],
   "source": [
    "#select the first 5 rows of the DataFrame:\n",
    "sliced_df = df[:5]"
   ]
  },
  {
   "cell_type": "code",
   "execution_count": 141,
   "id": "0d2e50a3",
   "metadata": {},
   "outputs": [],
   "source": [
    "#select only the \"Name\" and \"Salary\" columns for all employees:\n",
    "sliced_df = df[['Name', 'Salary']]"
   ]
  },
  {
   "cell_type": "code",
   "execution_count": 142,
   "id": "c41cede5",
   "metadata": {},
   "outputs": [],
   "source": [
    "# Create a sample DataFrame\n",
    "data1 = {'A': [1, 2, 3, 4, 5],\n",
    "        'B': [10, 20, 30, 40, 50],\n",
    "        'C': ['apple', 'banana', 'cherry', 'date', 'elderberry']}\n",
    "\n",
    "df2 = pd.DataFrame(data1, index=['row1', 'row2', 'row3', 'row4', 'row5'])\n",
    "\n",
    "# Using loc to select data by labels\n",
    "# Select a single row by label\n",
    "row2_data = df2.loc['row2']\n",
    "\n",
    "# Select multiple rows by labels\n",
    "rows_2_to_4_data = df2.loc['row2':'row4']\n",
    "\n",
    "# Select a single column by label\n",
    "column_A = df2.loc[:, 'A']\n",
    "\n",
    "# Select multiple columns by labels\n",
    "columns_A_and_B = df2.loc[:, ['A', 'B']]\n",
    "\n",
    "# Select specific rows and columns by labels\n",
    "specific_data = df2.loc[['row1', 'row3'], ['A', 'C']]\n",
    "\n",
    "# Using iloc to select data by integer positions\n",
    "# Select the first row\n",
    "first_row = df2.iloc[0]\n",
    "\n",
    "# Select rows by integer slice\n",
    "rows_2_to_4 = df2.iloc[1:4]\n",
    "\n",
    "# Select a single cell by row and column positions\n",
    "cell_value = df2.iloc[2, 1]\n",
    "\n",
    "# Select multiple cells by row and column positions\n",
    "subset = df2.iloc[[0, 3], [0, 2]]"
   ]
  },
  {
   "cell_type": "code",
   "execution_count": 143,
   "id": "7f33ed51",
   "metadata": {},
   "outputs": [
    {
     "name": "stdout",
     "output_type": "stream",
     "text": [
      "Department\n",
      "Engineering    68000.0\n",
      "Finance        69000.0\n",
      "HR             74600.0\n",
      "Marketing      68250.0\n",
      "Sales          66750.0\n",
      "Name: Salary, dtype: float64\n"
     ]
    }
   ],
   "source": [
    "department_salary = df.groupby(\"Department\")[\"Salary\"].mean()\n",
    "print(department_salary)\n"
   ]
  },
  {
   "cell_type": "code",
   "execution_count": 144,
   "id": "55c87e7d",
   "metadata": {},
   "outputs": [
    {
     "name": "stdout",
     "output_type": "stream",
     "text": [
      "City\n",
      "Atlanta          1\n",
      "Austin           1\n",
      "Boston           3\n",
      "Charlotte        1\n",
      "Chicago          2\n",
      "Dallas           1\n",
      "Denver           1\n",
      "Houston          1\n",
      "Los Angeles      1\n",
      "Miami            1\n",
      "Minneapolis      1\n",
      "New York         1\n",
      "Orlando          1\n",
      "Phoenix          1\n",
      "Portland         1\n",
      "San Diego        1\n",
      "San Francisco    1\n",
      "Seattle          1\n",
      "Tampa            1\n",
      "Name: Name, dtype: int64\n"
     ]
    }
   ],
   "source": [
    "city_employee_count = df.groupby(\"City\")[\"Name\"].count()\n",
    "print(city_employee_count)\n"
   ]
  },
  {
   "cell_type": "code",
   "execution_count": 145,
   "id": "7d6a84a3",
   "metadata": {},
   "outputs": [
    {
     "name": "stdout",
     "output_type": "stream",
     "text": [
      "Hire_Year\n",
      "2020    34.800000\n",
      "2021    30.200000\n",
      "2022    27.428571\n",
      "2023    27.600000\n",
      "Name: Age, dtype: float64\n"
     ]
    }
   ],
   "source": [
    "df['Hire_Year'] = pd.to_datetime(df['Hire_Date']).dt.year  # Extract hire year\n",
    "average_age_by_hire_year = df.groupby(\"Hire_Year\")[\"Age\"].mean()\n",
    "print(average_age_by_hire_year)\n"
   ]
  },
  {
   "cell_type": "code",
   "execution_count": 146,
   "id": "5937c4ed",
   "metadata": {},
   "outputs": [
    {
     "name": "stdout",
     "output_type": "stream",
     "text": [
      "Department\n",
      "Engineering    28.0\n",
      "Finance        34.0\n",
      "HR             35.0\n",
      "Marketing      35.0\n",
      "Sales          33.0\n",
      "Name: Age, dtype: float64\n"
     ]
    }
   ],
   "source": [
    "oldest_employee_by_department = df.groupby(\"Department\")[\"Age\"].max()\n",
    "print(oldest_employee_by_department)\n"
   ]
  },
  {
   "cell_type": "code",
   "execution_count": 147,
   "id": "942575be",
   "metadata": {},
   "outputs": [
    {
     "name": "stdout",
     "output_type": "stream",
     "text": [
      "              Age   Salary\n",
      "Department                \n",
      "Engineering  26.0  68000.0\n",
      "Finance      30.4  69000.0\n",
      "HR           32.4  74600.0\n",
      "Marketing    28.5  68250.0\n",
      "Sales        28.5  66750.0\n"
     ]
    }
   ],
   "source": [
    "# Create a pivot table to show average salary and average age by department\n",
    "pivot_table = df.pivot_table(index='Department', values=['Salary', 'Age'], aggfunc={'Salary': 'mean', 'Age': 'mean'})\n",
    "print(pivot_table)"
   ]
  },
  {
   "cell_type": "code",
   "execution_count": 148,
   "id": "662a427e",
   "metadata": {},
   "outputs": [
    {
     "name": "stdout",
     "output_type": "stream",
     "text": [
      "                 max      min\n",
      "Department                   \n",
      "Engineering  70000.0  66000.0\n",
      "Finance      82000.0  62000.0\n",
      "HR           80000.0  69000.0\n",
      "Marketing    76000.0  59000.0\n",
      "Sales        78000.0  60000.0\n"
     ]
    }
   ],
   "source": [
    "# Create a pivot table to show the maximum and minimum salary by department\n",
    "pivot_table = df.pivot_table(index='Department', values='Salary', aggfunc={'Salary': ['max', 'min']})\n",
    "print(pivot_table)"
   ]
  },
  {
   "cell_type": "code",
   "execution_count": 149,
   "id": "d3556e85",
   "metadata": {},
   "outputs": [],
   "source": [
    "import pandas as pd\n",
    "\n",
    "# Your existing employee data\n",
    "data = [\n",
    "    [\"John\", 25, \"New York\", 60000, \"Sales\", \"2022-03-15\"],\n",
    "    [\"Sarah\", 30, \"Los Angeles\", 75000, \"Marketing\", \"2021-11-20\"],\n",
    "    [\"Michael\", 28, \"Chicago\", 62000, \"Finance\", \"2022-05-10\"],\n",
    "    [\"Emily\", 24, \"San Francisco\", 70000, \"Engineering\", \"2023-01-08\"],\n",
    "]\n",
    "\n",
    "columns = [\"Name\", \"Age\", \"City\", \"Salary\", \"Department\", \"Hire_Date\"]\n",
    "\n",
    "df = pd.DataFrame(data, columns=columns)\n",
    "\n",
    "# Sample department data with some non-matching departments\n",
    "department_data = pd.DataFrame({\n",
    "    \"Department\": [\"Sales\", \"Marketing\", \"HR\", \"Operations\"],\n",
    "    \"Manager\": [\"Manager A\", \"Manager B\", \"Manager C\", \"Manager D\"],\n",
    "    \"Location\": [\"Location 1\", \"Location 2\", \"Location 3\", \"Location 4\"]\n",
    "})\n"
   ]
  },
  {
   "cell_type": "code",
   "execution_count": 150,
   "id": "38bb7b8c",
   "metadata": {},
   "outputs": [
    {
     "name": "stdout",
     "output_type": "stream",
     "text": [
      "Inner Join:\n",
      "    Name  Age         City  Salary Department   Hire_Date    Manager  \\\n",
      "0   John   25     New York   60000      Sales  2022-03-15  Manager A   \n",
      "1  Sarah   30  Los Angeles   75000  Marketing  2021-11-20  Manager B   \n",
      "\n",
      "     Location  \n",
      "0  Location 1  \n",
      "1  Location 2  \n"
     ]
    }
   ],
   "source": [
    "inner_merged = pd.merge(df, department_data, on=\"Department\", how=\"inner\")\n",
    "print(\"Inner Join:\")\n",
    "print(inner_merged)\n"
   ]
  },
  {
   "cell_type": "code",
   "execution_count": 151,
   "id": "f7403d02",
   "metadata": {},
   "outputs": [
    {
     "name": "stdout",
     "output_type": "stream",
     "text": [
      "\n",
      "Outer Join:\n",
      "      Name   Age           City   Salary   Department   Hire_Date    Manager  \\\n",
      "0     John  25.0       New York  60000.0        Sales  2022-03-15  Manager A   \n",
      "1    Sarah  30.0    Los Angeles  75000.0    Marketing  2021-11-20  Manager B   \n",
      "2  Michael  28.0        Chicago  62000.0      Finance  2022-05-10        NaN   \n",
      "3    Emily  24.0  San Francisco  70000.0  Engineering  2023-01-08        NaN   \n",
      "4      NaN   NaN            NaN      NaN           HR         NaN  Manager C   \n",
      "5      NaN   NaN            NaN      NaN   Operations         NaN  Manager D   \n",
      "\n",
      "     Location  \n",
      "0  Location 1  \n",
      "1  Location 2  \n",
      "2         NaN  \n",
      "3         NaN  \n",
      "4  Location 3  \n",
      "5  Location 4  \n"
     ]
    }
   ],
   "source": [
    "outer_merged = pd.merge(df, department_data, on=\"Department\", how=\"outer\")\n",
    "print(\"\\nOuter Join:\")\n",
    "print(outer_merged)"
   ]
  },
  {
   "cell_type": "code",
   "execution_count": 152,
   "id": "c2152152",
   "metadata": {},
   "outputs": [
    {
     "name": "stdout",
     "output_type": "stream",
     "text": [
      "\n",
      "Left Join:\n",
      "      Name  Age           City  Salary   Department   Hire_Date    Manager  \\\n",
      "0     John   25       New York   60000        Sales  2022-03-15  Manager A   \n",
      "1    Sarah   30    Los Angeles   75000    Marketing  2021-11-20  Manager B   \n",
      "2  Michael   28        Chicago   62000      Finance  2022-05-10        NaN   \n",
      "3    Emily   24  San Francisco   70000  Engineering  2023-01-08        NaN   \n",
      "\n",
      "     Location  \n",
      "0  Location 1  \n",
      "1  Location 2  \n",
      "2         NaN  \n",
      "3         NaN  \n"
     ]
    }
   ],
   "source": [
    "left_merged = pd.merge(df, department_data, on=\"Department\", how=\"left\")\n",
    "print(\"\\nLeft Join:\")\n",
    "print(left_merged)"
   ]
  },
  {
   "cell_type": "code",
   "execution_count": 153,
   "id": "91bc8616",
   "metadata": {},
   "outputs": [
    {
     "name": "stdout",
     "output_type": "stream",
     "text": [
      "\n",
      "Right Join:\n",
      "    Name   Age         City   Salary  Department   Hire_Date    Manager  \\\n",
      "0   John  25.0     New York  60000.0       Sales  2022-03-15  Manager A   \n",
      "1  Sarah  30.0  Los Angeles  75000.0   Marketing  2021-11-20  Manager B   \n",
      "2    NaN   NaN          NaN      NaN          HR         NaN  Manager C   \n",
      "3    NaN   NaN          NaN      NaN  Operations         NaN  Manager D   \n",
      "\n",
      "     Location  \n",
      "0  Location 1  \n",
      "1  Location 2  \n",
      "2  Location 3  \n",
      "3  Location 4  \n"
     ]
    }
   ],
   "source": [
    "right_merged = pd.merge(df, department_data, on=\"Department\", how=\"right\")\n",
    "print(\"\\nRight Join:\")\n",
    "print(right_merged)"
   ]
  },
  {
   "cell_type": "code",
   "execution_count": 154,
   "id": "b7ceee0c",
   "metadata": {},
   "outputs": [],
   "source": [
    "import pandas as pd\n",
    "\n",
    "# Sample data for df1\n",
    "data1 = {\n",
    "    'A': ['A0', 'A1', 'A2'],\n",
    "    'B': ['B0', 'B1', 'B2'],\n",
    "}\n",
    "\n",
    "df1 = pd.DataFrame(data1)\n",
    "\n",
    "# Sample data for df2\n",
    "data2 = {\n",
    "    'A': ['A3', 'A4', 'A5'],\n",
    "    'B': ['B3', 'B4', 'B5'],\n",
    "}\n",
    "\n",
    "df2 = pd.DataFrame(data2)\n"
   ]
  },
  {
   "cell_type": "code",
   "execution_count": 155,
   "id": "0f492b04",
   "metadata": {},
   "outputs": [
    {
     "name": "stdout",
     "output_type": "stream",
     "text": [
      "Concatenated Rows (Vertical Concatenation):\n",
      "    A   B\n",
      "0  A0  B0\n",
      "1  A1  B1\n",
      "2  A2  B2\n",
      "0  A3  B3\n",
      "1  A4  B4\n",
      "2  A5  B5\n"
     ]
    }
   ],
   "source": [
    "# Concatenate df1 and df2 along rows (vertically)\n",
    "concatenated_rows = pd.concat([df1, df2], axis=0)\n",
    "print(\"Concatenated Rows (Vertical Concatenation):\")\n",
    "print(concatenated_rows)\n"
   ]
  },
  {
   "cell_type": "code",
   "execution_count": 156,
   "id": "d7ce511b",
   "metadata": {},
   "outputs": [
    {
     "name": "stdout",
     "output_type": "stream",
     "text": [
      "\n",
      "Concatenated Columns (Horizontal Concatenation):\n",
      "    A   B   A   B\n",
      "0  A0  B0  A3  B3\n",
      "1  A1  B1  A4  B4\n",
      "2  A2  B2  A5  B5\n"
     ]
    }
   ],
   "source": [
    "# Concatenate df1 and df2 along columns (horizontally)\n",
    "concatenated_columns = pd.concat([df1, df2], axis=1)\n",
    "print(\"\\nConcatenated Columns (Horizontal Concatenation):\")\n",
    "print(concatenated_columns)\n"
   ]
  },
  {
   "cell_type": "code",
   "execution_count": 157,
   "id": "fd9df95d",
   "metadata": {},
   "outputs": [],
   "source": [
    "data = {\n",
    "    'A': [1, 2, np.nan, 4, 5],\n",
    "    'B': [np.nan, 2, 3, 4, 5],\n",
    "    'C': [1, 2, 3, 4, 5]\n",
    "}\n",
    "\n",
    "df = pd.DataFrame(data)"
   ]
  },
  {
   "cell_type": "code",
   "execution_count": 158,
   "id": "e81f365a",
   "metadata": {},
   "outputs": [
    {
     "name": "stdout",
     "output_type": "stream",
     "text": [
      "DataFrame after Filling Missing Values with Mean:\n",
      "     A    B  C\n",
      "0  1.0  3.5  1\n",
      "1  2.0  2.0  2\n",
      "2  3.0  3.0  3\n",
      "3  4.0  4.0  4\n",
      "4  5.0  5.0  5\n"
     ]
    }
   ],
   "source": [
    "# Fill missing values with the mean of each column\n",
    "df_filled_mean = df.fillna(df.mean())\n",
    "print(\"DataFrame after Filling Missing Values with Mean:\")\n",
    "print(df_filled_mean)"
   ]
  },
  {
   "cell_type": "code",
   "execution_count": 159,
   "id": "fdb75f79",
   "metadata": {},
   "outputs": [
    {
     "name": "stdout",
     "output_type": "stream",
     "text": [
      "\n",
      "DataFrame after Filling Missing Values with the Last Observation:\n",
      "     A    B  C\n",
      "0  1.0  2.0  1\n",
      "1  2.0  2.0  2\n",
      "2  4.0  3.0  3\n",
      "3  4.0  4.0  4\n",
      "4  5.0  5.0  5\n"
     ]
    }
   ],
   "source": [
    "# Fill missing values with the last observation (backward fill)\n",
    "df_filled_last_observation = df.fillna(method='bfill')\n",
    "print(\"\\nDataFrame after Filling Missing Values with the Last Observation:\")\n",
    "print(df_filled_last_observation)\n"
   ]
  },
  {
   "cell_type": "code",
   "execution_count": 160,
   "id": "01b9ed36",
   "metadata": {},
   "outputs": [
    {
     "name": "stdout",
     "output_type": "stream",
     "text": [
      "\n",
      "DataFrame after Filling Missing Values with the Most Frequent Observation:\n",
      "     A    B  C\n",
      "0  1.0  2.0  1\n",
      "1  2.0  2.0  2\n",
      "2  1.0  3.0  3\n",
      "3  4.0  4.0  4\n",
      "4  5.0  5.0  5\n"
     ]
    }
   ],
   "source": [
    "# Fill missing values with the most frequent observation (mode)\n",
    "df_filled_most_frequent = df.fillna(df.mode().iloc[0])\n",
    "print(\"\\nDataFrame after Filling Missing Values with the Most Frequent Observation:\")\n",
    "print(df_filled_most_frequent)\n"
   ]
  },
  {
   "cell_type": "code",
   "execution_count": null,
   "id": "953d8931",
   "metadata": {},
   "outputs": [],
   "source": []
  }
 ],
 "metadata": {
  "kernelspec": {
   "display_name": "Python 3 (ipykernel)",
   "language": "python",
   "name": "python3"
  },
  "language_info": {
   "codemirror_mode": {
    "name": "ipython",
    "version": 3
   },
   "file_extension": ".py",
   "mimetype": "text/x-python",
   "name": "python",
   "nbconvert_exporter": "python",
   "pygments_lexer": "ipython3",
   "version": "3.10.9"
  }
 },
 "nbformat": 4,
 "nbformat_minor": 5
}
