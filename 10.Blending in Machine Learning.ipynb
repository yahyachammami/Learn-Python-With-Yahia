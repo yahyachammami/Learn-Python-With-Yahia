{
 "cells": [
  {
   "cell_type": "markdown",
   "metadata": {},
   "source": [
    "## Yahia Chammami"
   ]
  },
  {
   "cell_type": "markdown",
   "metadata": {
    "id": "59qzatBwmxYN"
   },
   "source": [
    "# BLENDING:\n",
    "\n",
    "**Blending** is an ensemble machine learning algorithm.\n",
    "\n",
    "It is a colloquial name for stacked generalization or stacking ensemble where instead of fitting the meta-model on **out-of-fold predictions** made by the base model, it is fit on predictions made on a **holdout dataset**.\n",
    "\n",
    "**Blending**: Stacking-type ensemble where the meta-model is trained on predictions made on a **holdout dataset**.\n",
    "Stacking: Stacking-type ensemble where the meta-model is trained on **out-of-fold predictions** made during k-fold cross-validation."
   ]
  },
  {
   "cell_type": "code",
   "execution_count": 1,
   "metadata": {
    "id": "ZF5GTuaam58D"
   },
   "outputs": [],
   "source": [
    "from numpy import hstack\n",
    "from sklearn.datasets import make_classification\n",
    "from sklearn.model_selection import train_test_split\n",
    "from sklearn.metrics import accuracy_score\n",
    "from sklearn.linear_model import LogisticRegression\n",
    "from sklearn.neighbors import KNeighborsClassifier\n",
    "from sklearn.tree import DecisionTreeClassifier\n",
    "from sklearn.svm import SVC\n",
    "from sklearn.naive_bayes import GaussianNB\n",
    " \n",
    "# get the dataset\n",
    "def get_dataset():\n",
    "    X, y = make_classification(n_samples=10000, n_features=20, n_informative=15, n_redundant=5, random_state=7)\n",
    "    return X, y"
   ]
  },
  {
   "cell_type": "code",
   "execution_count": 2,
   "metadata": {
    "id": "B77mOfKOnZ6-"
   },
   "outputs": [],
   "source": [
    "# get a list of base models\n",
    "def get_models():\n",
    "    models = list()\n",
    "    models.append(('lr', LogisticRegression()))\n",
    "    models.append(('knn', KNeighborsClassifier()))\n",
    "    models.append(('cart', DecisionTreeClassifier()))\n",
    "    models.append(('svm', SVC()))\n",
    "    models.append(('bayes', GaussianNB()))\n",
    "    return models"
   ]
  },
  {
   "cell_type": "code",
   "execution_count": 3,
   "metadata": {
    "id": "s42sj_GmnaAm"
   },
   "outputs": [],
   "source": [
    "# fit the blending ensemble\n",
    "def fit_ensemble(models, X_train, X_val, y_train, y_val):\n",
    "    # Initialize an empty list to store the predictions of base models\n",
    "    meta_X = list()\n",
    "    \n",
    "    # Fit all models on the training set and predict on the validation set\n",
    "    for name, model in models:\n",
    "        # Fit the model on the training set\n",
    "        model.fit(X_train, y_train)\n",
    "        \n",
    "        # Predict on the validation set\n",
    "        yhat = model.predict(X_val)\n",
    "        \n",
    "        # Reshape predictions into a matrix with one column\n",
    "        yhat = yhat.reshape(len(yhat), 1)\n",
    "        \n",
    "        # Store predictions as input for blending\n",
    "        meta_X.append(yhat)\n",
    "    \n",
    "    # Create 2D array from predictions, each set is an input feature\n",
    "    meta_X = hstack(meta_X)\n",
    "    \n",
    "    # Define blending model (meta-model)\n",
    "    blender = LogisticRegression()\n",
    "    \n",
    "    # Fit the blending model on predictions from base models\n",
    "    blender.fit(meta_X, y_val)\n",
    "    \n",
    "    return blender"
   ]
  },
  {
   "cell_type": "code",
   "execution_count": 4,
   "metadata": {
    "id": "b5IV1CpNnaEV"
   },
   "outputs": [],
   "source": [
    "# make a prediction with the blending ensemble\n",
    "def predict_ensemble(models, blender, X_test):\n",
    "    # Initialize an empty list to store the predictions of base models\n",
    "    meta_X = list()\n",
    "    \n",
    "    # Make predictions with base models\n",
    "    for name, model in models:\n",
    "        # Predict with base model\n",
    "        yhat = model.predict(X_test)\n",
    "        \n",
    "        # Reshape predictions into a matrix with one column\n",
    "        yhat = yhat.reshape(len(yhat), 1)\n",
    "        \n",
    "        # Store prediction\n",
    "        meta_X.append(yhat)\n",
    "    \n",
    "    # Create 2D array from predictions, each set is an input feature\n",
    "    meta_X = hstack(meta_X)\n",
    "    \n",
    "    # Predict using the blending model\n",
    "    return blender.predict(meta_X)"
   ]
  },
  {
   "cell_type": "code",
   "execution_count": 5,
   "metadata": {
    "colab": {
     "base_uri": "https://localhost:8080/"
    },
    "id": "BKb-3hQqnaHB",
    "outputId": "78daf2a1-35f0-40ec-d47b-8d23b24bcd94"
   },
   "outputs": [
    {
     "name": "stdout",
     "output_type": "stream",
     "text": [
      "Train: (3350, 20), Val: (1650, 20), Test: (5000, 20)\n",
      "Blending Accuracy: 97.820\n"
     ]
    }
   ],
   "source": [
    "# define dataset\n",
    "X, y = get_dataset()\n",
    "# split dataset into train and test sets\n",
    "X_train_full, X_test, y_train_full, y_test = train_test_split(X, y, test_size=0.5, random_state=1)\n",
    "# split training set into train and validation sets\n",
    "X_train, X_val, y_train, y_val = train_test_split(X_train_full, y_train_full, test_size=0.33, random_state=1)\n",
    "# summarize data split\n",
    "print('Train: %s, Val: %s, Test: %s' % (X_train.shape, X_val.shape, X_test.shape))\n",
    "# create the base models\n",
    "models = get_models()\n",
    "# train the blending ensemble\n",
    "blender = fit_ensemble(models, X_train, X_val, y_train, y_val)\n",
    "# make predictions on test set\n",
    "yhat = predict_ensemble(models, blender, X_test)\n",
    "# evaluate predictions\n",
    "score = accuracy_score(y_test, yhat)\n",
    "print('Blending Accuracy: %.3f' % (score*100))"
   ]
  },
  {
   "cell_type": "code",
   "execution_count": null,
   "metadata": {
    "id": "-RfZO2yjwXD4"
   },
   "outputs": [],
   "source": []
  }
 ],
 "metadata": {
  "colab": {
   "name": "BLENDING IN MACHINE LEARNING.ipynb",
   "provenance": []
  },
  "kernelspec": {
   "display_name": "Python 3 (ipykernel)",
   "language": "python",
   "name": "python3"
  },
  "language_info": {
   "codemirror_mode": {
    "name": "ipython",
    "version": 3
   },
   "file_extension": ".py",
   "mimetype": "text/x-python",
   "name": "python",
   "nbconvert_exporter": "python",
   "pygments_lexer": "ipython3",
   "version": "3.10.9"
  }
 },
 "nbformat": 4,
 "nbformat_minor": 1
}
