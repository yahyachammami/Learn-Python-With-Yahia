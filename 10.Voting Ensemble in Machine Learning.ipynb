{
 "cells": [
  {
   "cell_type": "markdown",
   "metadata": {},
   "source": [
    "## Yahia Chammami"
   ]
  },
  {
   "cell_type": "markdown",
   "metadata": {
    "id": "-OQbeCf7xLXt"
   },
   "source": [
    "**VOTING ENSEMBLES**\n",
    "\n",
    "A voting ensemble (or a “majority voting ensemble“) is an ensemble machine learning model that combines the predictions from multiple other models.\n",
    "\n",
    "It is a technique that may be used to improve model performance, ideally achieving better performance than any single model used in the ensemble.\n",
    "\n",
    "**Regression Voting Ensemble:** Predictions are the average of contributing models.\n",
    "\n",
    "**Classification Voting Ensemble:** Predictions are the majority vote of contributing models.\n",
    "\n",
    "There are two approaches to the majority vote prediction for classification; they are **hard voting** and **soft voting**.\n",
    "\n",
    "**Hard Voting:** Predict the class with the largest sum of votes from models\n",
    "\n",
    "\n",
    "Explanation: Hard voting involves summing the predictions for each class label and predicting the class label with the most votes.\n",
    "\n",
    "**Soft Voting:** Predict the class with the largest summed probability from models.\n",
    "\n",
    "Explanation: Soft voting involves summing the predicted probabilities (or probability-like scores) for each class label and predicting the class label with the largest probability."
   ]
  },
  {
   "cell_type": "markdown",
   "metadata": {
    "id": "Y7_P-TDJ16XA"
   },
   "source": [
    "**IMPLEMENTATION**"
   ]
  },
  {
   "cell_type": "code",
   "execution_count": 7,
   "metadata": {
    "id": "Hl_5mf4DzhmJ"
   },
   "outputs": [],
   "source": [
    "# compare hard voting to standalone classifiers\n",
    "from numpy import mean\n",
    "from numpy import std\n",
    "from sklearn.datasets import make_classification\n",
    "from sklearn.model_selection import cross_val_score\n",
    "from sklearn.model_selection import RepeatedStratifiedKFold\n",
    "from sklearn.neighbors import KNeighborsClassifier\n",
    "from sklearn.ensemble import VotingClassifier\n",
    "from matplotlib import pyplot"
   ]
  },
  {
   "cell_type": "code",
   "execution_count": 8,
   "metadata": {
    "id": "H6DaKAmj2is-"
   },
   "outputs": [],
   "source": [
    "# get the dataset\n",
    "def get_dataset():\n",
    "    X, y = make_classification(n_samples=1000, n_features=20, n_informative=15, n_redundant=5, random_state=2)\n",
    "    return X, y"
   ]
  },
  {
   "cell_type": "code",
   "execution_count": 9,
   "metadata": {
    "id": "dx3o54al2lBN"
   },
   "outputs": [],
   "source": [
    "# get a voting ensemble of models\n",
    "def get_voting():\n",
    "    # Define the base models\n",
    "    models = list()\n",
    "    models.append(('knn1', KNeighborsClassifier(n_neighbors=1)))\n",
    "    models.append(('knn3', KNeighborsClassifier(n_neighbors=3)))\n",
    "    models.append(('knn5', KNeighborsClassifier(n_neighbors=5)))\n",
    "    models.append(('knn7', KNeighborsClassifier(n_neighbors=7)))\n",
    "    models.append(('knn9', KNeighborsClassifier(n_neighbors=9)))\n",
    "    \n",
    "    # Define the voting ensemble\n",
    "    ensemble = VotingClassifier(estimators=models, voting='hard')\n",
    "    \n",
    "    return ensemble"
   ]
  },
  {
   "cell_type": "code",
   "execution_count": 10,
   "metadata": {
    "id": "9GWkfE5V2ldJ"
   },
   "outputs": [],
   "source": [
    "# get a list of models to evaluate\n",
    "def get_models():\n",
    "    models = dict()\n",
    "    models['knn1'] = KNeighborsClassifier(n_neighbors=1)\n",
    "    models['knn3'] = KNeighborsClassifier(n_neighbors=3)\n",
    "    models['knn5'] = KNeighborsClassifier(n_neighbors=5)\n",
    "    models['knn7'] = KNeighborsClassifier(n_neighbors=7)\n",
    "    models['knn9'] = KNeighborsClassifier(n_neighbors=9)\n",
    "    models['hard_voting'] = get_voting()  # Assuming you have already defined the get_voting function\n",
    "    \n",
    "    return models"
   ]
  },
  {
   "cell_type": "code",
   "execution_count": 11,
   "metadata": {
    "id": "OqLk0cXs2lh9"
   },
   "outputs": [],
   "source": [
    "# evaluate a give model using cross-validation\n",
    "def evaluate_model(model, X, y):\n",
    "        cv = RepeatedStratifiedKFold(n_splits=10, n_repeats=3, random_state=1)\n",
    "        scores = cross_val_score(model, X, y, scoring='accuracy', cv=cv, n_jobs=-1, error_score='raise')\n",
    "        return scores"
   ]
  },
  {
   "cell_type": "code",
   "execution_count": 12,
   "metadata": {
    "colab": {
     "base_uri": "https://localhost:8080/",
     "height": 372
    },
    "id": "tzfZeD4f2lkq",
    "outputId": "d8b07863-30a7-4748-98e1-fdf7c381dfb3"
   },
   "outputs": [
    {
     "name": "stdout",
     "output_type": "stream",
     "text": [
      ">knn1 0.873 (0.030)\n",
      ">knn3 0.889 (0.038)\n",
      ">knn5 0.895 (0.031)\n",
      ">knn7 0.899 (0.035)\n",
      ">knn9 0.900 (0.033)\n",
      ">hard_voting 0.902 (0.034)\n"
     ]
    },
    {
     "data": {
      "image/png": "[encoded data removed]",
      "text/plain": [
       "<Figure size 432x288 with 1 Axes>"
      ]
     },
     "metadata": {
      "needs_background": "light",
      "tags": []
     },
     "output_type": "display_data"
    }
   ],
   "source": [
    "# define dataset\n",
    "X, y = get_dataset()\n",
    "# get the models to evaluate\n",
    "models = get_models()\n",
    "# evaluate the models and store results\n",
    "results, names = list(), list()\n",
    "for name, model in models.items():\n",
    "        scores = evaluate_model(model, X, y)\n",
    "        results.append(scores)\n",
    "        names.append(name)\n",
    "        print('>%s %.3f (%.3f)' % (name, mean(scores), std(scores)))\n",
    "# plot model performance for comparison\n",
    "pyplot.boxplot(results, labels=names, showmeans=True)\n",
    "pyplot.show()"
   ]
  },
  {
   "cell_type": "markdown",
   "metadata": {
    "id": "Nh91YVan27A0"
   },
   "source": [
    "# **WHEN WE CAN USE VOTING ENSEMBLE:**\n",
    "\n",
    "USE VOTING ENSEMBLE MODEL IF:\n",
    "\n",
    "1.It results in better performance than any model used in the ensemble.\n",
    "\n",
    "2.It results in a lower variance than any model used in the ensemble.\n"
   ]
  },
  {
   "cell_type": "markdown",
   "metadata": {
    "id": "iafDzzqn4rX8"
   },
   "source": [
    "**VOTING ENSEMBLES ARE MOST EFFECTIVE WHEN:**\n",
    "\n",
    "\n",
    "1.   Combining multiple fits of a model trained using stochastic learning algorithms.\n",
    "2.   Combining multiple fits of a model with different hyperparameters.\n",
    "\n",
    "\n",
    "\n"
   ]
  },
  {
   "cell_type": "markdown",
   "metadata": {
    "id": "aC6F8mUs5DqT"
   },
   "source": [
    "**LIMITATIONS OF VOTING ENSEMBLES:**\n",
    "\n",
    "A limitation of the voting ensemble is that it treats all models the same, meaning all models contribute equally to the prediction. This is a problem if some models are good in some situations and poor in others.\n",
    "\n",
    "Extensions to voting ensembles:\n",
    "\n",
    "1.Weighted Average Ensemble (blending).\n",
    "\n",
    "2.Stacked Generalization (stacking)."
   ]
  },
  {
   "cell_type": "code",
   "execution_count": null,
   "metadata": {},
   "outputs": [],
   "source": []
  }
 ],
 "metadata": {
  "colab": {
   "name": "Ensemble Model Development.ipynb",
   "provenance": []
  },
  "kernelspec": {
   "display_name": "Python 3 (ipykernel)",
   "language": "python",
   "name": "python3"
  },
  "language_info": {
   "codemirror_mode": {
    "name": "ipython",
    "version": 3
   },
   "file_extension": ".py",
   "mimetype": "text/x-python",
   "name": "python",
   "nbconvert_exporter": "python",
   "pygments_lexer": "ipython3",
   "version": "3.10.9"
  }
 },
 "nbformat": 4,
 "nbformat_minor": 1
}
