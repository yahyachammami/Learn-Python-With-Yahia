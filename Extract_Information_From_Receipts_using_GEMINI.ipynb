{
  "nbformat": 4,
  "nbformat_minor": 0,
  "metadata": {
    "colab": {
      "provenance": [],
      "include_colab_link": true
    },
    "kernelspec": {
      "name": "python3",
      "display_name": "Python 3"
    },
    "language_info": {
      "name": "python"
    }
  },
  "cells": [
    {
      "cell_type": "markdown",
      "metadata": {
        "id": "view-in-github",
        "colab_type": "text"
      },
      "source": [
        "<a href=\"https://colab.research.google.com/github/yahyachammami/Learn-Python-With-Yahia/blob/main/Extract_Information_From_Receipts_using_GEMINI.ipynb\" target=\"_parent\"><img src=\"https://colab.research.google.com/assets/colab-badge.svg\" alt=\"Open In Colab\"/></a>"
      ]
    },
    {
      "cell_type": "markdown",
      "source": [
        "## Yahia Chammami"
      ],
      "metadata": {
        "id": "T1rUHPp_PaME"
      }
    },
    {
      "cell_type": "code",
      "execution_count": 1,
      "metadata": {
        "id": "_2IevCj2_2x0",
        "colab": {
          "base_uri": "https://localhost:8080/"
        },
        "outputId": "e3ede3a0-e9ae-4379-b8e4-85fb8e8ca31c"
      },
      "outputs": [
        {
          "output_type": "stream",
          "name": "stdout",
          "text": [
            "\u001b[?25l     \u001b[90m━━━━━━━━━━━━━━━━━━━━━━━━━━━━━━━━━━━━━━━━\u001b[0m \u001b[32m0.0/137.4 kB\u001b[0m \u001b[31m?\u001b[0m eta \u001b[36m-:--:--\u001b[0m\r\u001b[2K     \u001b[90m━━━━━━━━━━━━━━━━━━━━━━━━━━━━━━━━━━━━━━━━\u001b[0m \u001b[32m137.4/137.4 kB\u001b[0m \u001b[31m4.7 MB/s\u001b[0m eta \u001b[36m0:00:00\u001b[0m\n",
            "\u001b[?25h"
          ]
        }
      ],
      "source": [
        "!pip install -q -U google-generativeai"
      ]
    },
    {
      "cell_type": "code",
      "source": [
        "import google.generativeai as genai"
      ],
      "metadata": {
        "id": "t1O3Je_ENtpf"
      },
      "execution_count": 2,
      "outputs": []
    },
    {
      "cell_type": "markdown",
      "source": [
        "## SET API KEY"
      ],
      "metadata": {
        "id": "LWXvnZL8OHxy"
      }
    },
    {
      "cell_type": "code",
      "source": [
        "# Used to securely store your API key\n",
        "from google.colab import userdata\n",
        "\n",
        "GOOGLE_API_KEY=userdata.get('GOOGLE_API_KEY')\n",
        "\n",
        "genai.configure(api_key=GOOGLE_API_KEY)"
      ],
      "metadata": {
        "id": "rHXNl6qnN3qO"
      },
      "execution_count": 3,
      "outputs": []
    },
    {
      "cell_type": "markdown",
      "source": [
        "## LIST OF MODELS"
      ],
      "metadata": {
        "id": "Sbj_mjeyOAG1"
      }
    },
    {
      "cell_type": "code",
      "source": [
        "for m in genai.list_models():\n",
        "  if 'generateContent' in m.supported_generation_methods:\n",
        "    print(m.name)\n"
      ],
      "metadata": {
        "colab": {
          "base_uri": "https://localhost:8080/",
          "height": 126
        },
        "id": "GzWKJAOZN7Bt",
        "outputId": "8bab9f2f-b5a1-4baa-aeb6-e290e4eeac3b"
      },
      "execution_count": 4,
      "outputs": [
        {
          "output_type": "stream",
          "name": "stdout",
          "text": [
            "models/gemini-1.0-pro\n",
            "models/gemini-1.0-pro-001\n",
            "models/gemini-1.0-pro-latest\n",
            "models/gemini-1.0-pro-vision-latest\n",
            "models/gemini-pro\n",
            "models/gemini-pro-vision\n"
          ]
        }
      ]
    },
    {
      "cell_type": "code",
      "source": [
        "# Model Configuration\n",
        "MODEL_CONFIG = {\n",
        "  \"temperature\": 0.2,\n",
        "  \"top_p\": 1,\n",
        "  \"top_k\": 32,\n",
        "  \"max_output_tokens\": 4096,\n",
        "}\n",
        "\n",
        "## Safety Settings of Model\n",
        "safety_settings = [\n",
        "  {\n",
        "    \"category\": \"HARM_CATEGORY_HARASSMENT\",\n",
        "    \"threshold\": \"BLOCK_MEDIUM_AND_ABOVE\"\n",
        "  },\n",
        "  {\n",
        "    \"category\": \"HARM_CATEGORY_HATE_SPEECH\",\n",
        "    \"threshold\": \"BLOCK_MEDIUM_AND_ABOVE\"\n",
        "  },\n",
        "  {\n",
        "    \"category\": \"HARM_CATEGORY_SEXUALLY_EXPLICIT\",\n",
        "    \"threshold\": \"BLOCK_MEDIUM_AND_ABOVE\"\n",
        "  },\n",
        "  {\n",
        "    \"category\": \"HARM_CATEGORY_DANGEROUS_CONTENT\",\n",
        "    \"threshold\": \"BLOCK_MEDIUM_AND_ABOVE\"\n",
        "  }\n",
        "]"
      ],
      "metadata": {
        "id": "sErUXoOIOMKs"
      },
      "execution_count": 5,
      "outputs": []
    },
    {
      "cell_type": "code",
      "source": [],
      "metadata": {
        "id": "AkrCNMO9Oppr"
      },
      "execution_count": null,
      "outputs": []
    },
    {
      "cell_type": "markdown",
      "source": [
        "## LOAD GEMINI MODEL WITH MODEL CONFIGURATIONS"
      ],
      "metadata": {
        "id": "M0ax-c4kOqE0"
      }
    },
    {
      "cell_type": "code",
      "source": [
        "model = genai.GenerativeModel(model_name = \"gemini-pro-vision\",\n",
        "                              generation_config = MODEL_CONFIG,\n",
        "                              safety_settings = safety_settings)"
      ],
      "metadata": {
        "id": "kDhL4GY1OuW_"
      },
      "execution_count": 6,
      "outputs": []
    },
    {
      "cell_type": "markdown",
      "source": [
        "## DEFINE IMAGE FORMAT TO INPUT IN GEMINI"
      ],
      "metadata": {
        "id": "Stc93TB3Qzni"
      }
    },
    {
      "cell_type": "code",
      "source": [
        "from pathlib import Path\n",
        "\n",
        "def image_format(image_path):\n",
        "    img = Path(image_path)\n",
        "\n",
        "    if not img.exists():\n",
        "        raise FileNotFoundError(f\"Could not find image: {img}\")\n",
        "\n",
        "    image_parts = [\n",
        "        {\n",
        "            \"mime_type\": \"image/png\", ## Mime type are PNG - image/png. JPEG - image/jpeg. WEBP - image/webp\n",
        "            \"data\": img.read_bytes()\n",
        "        }\n",
        "    ]\n",
        "    return image_parts\n"
      ],
      "metadata": {
        "id": "Eh_FdZ_nO2Xx"
      },
      "execution_count": 7,
      "outputs": []
    },
    {
      "cell_type": "markdown",
      "source": [
        "## GEMINI MODEL OUTPUT"
      ],
      "metadata": {
        "id": "Xau7_2BuQ8ux"
      }
    },
    {
      "cell_type": "code",
      "source": [
        "def gemini_output(image_path, system_prompt, user_prompt):\n",
        "\n",
        "    image_info = image_format(image_path)\n",
        "    input_prompt= [system_prompt, image_info[0], user_prompt]\n",
        "    response = model.generate_content(input_prompt)\n",
        "    return response.text"
      ],
      "metadata": {
        "id": "gkDwnC9NQKSd"
      },
      "execution_count": 8,
      "outputs": []
    },
    {
      "cell_type": "markdown",
      "source": [
        "### EXTRACTING PART OF THE INFORMATION FROM INVOICE"
      ],
      "metadata": {
        "id": "uDGItZ90Re2z"
      }
    },
    {
      "cell_type": "code",
      "source": [
        "system_prompt = \"\"\"\n",
        "               You are a specialist in comprehending receipts.\n",
        "               Input images in the form of receipts will be provided to you,\n",
        "               and your task is to respond to questions based on the content of the input image.\n",
        "               \"\"\"\n",
        "\n",
        "image_path = \"/content/Invoice_Example.jpg\"\n",
        "\n",
        "user_prompt = \"What is the total amount in the image?\"\n",
        "\n",
        "gemini_output(image_path, system_prompt, user_prompt)"
      ],
      "metadata": {
        "colab": {
          "base_uri": "https://localhost:8080/",
          "height": 36
        },
        "id": "t5Amymj_Quw0",
        "outputId": "55c2cf2e-f02e-4694-f338-6b57d9d2d7a6"
      },
      "execution_count": 9,
      "outputs": [
        {
          "output_type": "execute_result",
          "data": {
            "text/plain": [
              "' The total amount is 5650.00.'"
            ],
            "application/vnd.google.colaboratory.intrinsic+json": {
              "type": "string"
            }
          },
          "metadata": {},
          "execution_count": 9
        }
      ]
    },
    {
      "cell_type": "markdown",
      "source": [
        "## EXTRACTING WHOLE DATA IN JSON FROM INVOICE"
      ],
      "metadata": {
        "id": "c1tPGdtfR_sL"
      }
    },
    {
      "cell_type": "code",
      "source": [
        "system_prompt = \"\"\"\n",
        "               You are a specialist in comprehending receipts.\n",
        "               Input images in the form of receipts will be provided to you,\n",
        "               and your task is to respond to questions based on the content of the input image.\n",
        "               \"\"\"\n",
        "#system_prompt = \"Convert Invoice data into json format with appropriate json tags as required for the data in image \"\n",
        "image_path = \"/content/Invoice_Example.jpg\"\n",
        "user_prompt = \"Convert Invoice data into json format with appropriate json tags as required for the data in image \""
      ],
      "metadata": {
        "id": "QTxNK6EDSUfg"
      },
      "execution_count": 10,
      "outputs": []
    },
    {
      "cell_type": "code",
      "source": [
        "\n",
        "output = gemini_output(image_path, system_prompt, user_prompt)"
      ],
      "metadata": {
        "id": "p6jDPxZITOv1"
      },
      "execution_count": 11,
      "outputs": []
    },
    {
      "cell_type": "code",
      "source": [
        "from IPython.display import Markdown\n",
        "Markdown(output)"
      ],
      "metadata": {
        "colab": {
          "base_uri": "https://localhost:8080/",
          "height": 572
        },
        "id": "aOf5m0YWTQ52",
        "outputId": "856577fb-7e7a-41fc-a581-9c4c9e8858b8"
      },
      "execution_count": 12,
      "outputs": [
        {
          "output_type": "execute_result",
          "data": {
            "text/plain": [
              "<IPython.core.display.Markdown object>"
            ],
            "text/markdown": " ```json\n{\n  \"invoice_number\": \"000123\",\n  \"invoice_date\": \"May 10, 2018\",\n  \"payment_due\": \"May 30, 2018\",\n  \"bill_to\": {\n    \"name\": \"Bench Accounting\",\n    \"address\": \"545 Robson St\\nVancouver BC, V6B2B7 Canada\",\n    \"email\": \"info@bench.co\"\n  },\n  \"ship_to\": {\n    \"name\": \"Bench Accounting\",\n    \"address\": \"545 Robson St\\nVancouver BC, V6B2B7 Canada\"\n  },\n  \"order_date\": \"May 10, 2018\",\n  \"est_delivery_date\": \"May 10, 2018\",\n  \"method\": \"Ground\",\n  \"trackable\": \"Yes\",\n  \"note\": \"To be delivered to cargo bay #2\",\n  \"items\": [\n    {\n      \"item\": \"Chairs\",\n      \"description\": \"Comfortable but overpriced chairs\",\n      \"quantity\": 10,\n      \"unit_cost\": 5000,\n      \"amount\": 5000\n    }\n  ],\n  \"subtotal\": 5000,\n  \"tax\": 650,\n  \"total\": 5650,\n  \"amount_due\": 5650\n}\n```"
          },
          "metadata": {},
          "execution_count": 12
        }
      ]
    },
    {
      "cell_type": "code",
      "source": [
        "user_promptt = \"Convert Invoice data into dataframe with appropriate columns names as required for the data in image \"\n",
        "outputt = gemini_output(image_path, system_prompt, user_promptt)\n",
        "from IPython.display import Markdown\n",
        "Markdown(outputt)\n"
      ],
      "metadata": {
        "id": "O21AfbElTfTm",
        "colab": {
          "base_uri": "https://localhost:8080/",
          "height": 306
        },
        "outputId": "5d9965d2-8d2e-44d4-936b-7eb5748fe0d7"
      },
      "execution_count": 13,
      "outputs": [
        {
          "output_type": "execute_result",
          "data": {
            "text/plain": [
              "<IPython.core.display.Markdown object>"
            ],
            "text/markdown": " | Invoice Number | Invoice Date | Payment Due | Order Date | Shipping Method | Tracking Number | Item | Quantity | Unit Cost | Amount |\n|---|---|---|---|---|---|---|---|---|---|\n| 000123 | 05/10/2018 | 05/30/2018 | 05/10/2018 | Ground | Yes | 10 Chairs | 10 | $500.00 | $5,000.00 |\n|  |  |  |  |  |  | Comfortable but overpriced chairs |  |  |  |\n|  |  |  |  |  |  | Subtotal |  |  | $5,000.00 |\n|  |  |  |  |  |  | Tax (13.0%) |  |  | $650.00 |\n|  |  |  |  |  |  | Total |  |  | $5,650.00 |"
          },
          "metadata": {},
          "execution_count": 13
        }
      ]
    }
  ]
}