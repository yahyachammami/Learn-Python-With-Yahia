{
 "cells": [
  {
   "cell_type": "markdown",
   "metadata": {},
   "source": [
    "## Yahia Chammami"
   ]
  },
  {
   "cell_type": "markdown",
   "metadata": {
    "id": "o3D42WOWtZg1"
   },
   "source": [
    "# **STACKING GENERALIZATION**\n",
    "\n",
    "\n",
    "Stacked Generalization or **“Stacking”** for short is an ensemble machine learning algorithm.\n",
    "\n",
    "![workflow.png](data:image/png;base64,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)\n",
    "\n",
    "\n",
    "\n",
    "\n",
    "The architecture of a stacking model involves two or more base models, often referred to as **level-1** models, and a **meta-model** that combines the predictions of the base models, referred to as a level-1 model.\n",
    "\n",
    "**Level-1 Models (Base-Models)**: Models fit on the training data and whose predictions are compiled.\n",
    "\n",
    "**Level-2 Model (Meta-Model)**: Model that learns how to best combine the predictions of the base models.\n",
    "\n",
    "The meta-model is trained on the predictions made by base models on out-of-sample data. That is, data not used to train the base models is fed to the base models, predictions are made, and these predictions, along with the expected outputs, provide the input and output pairs of the training dataset used to fit the meta-model.\n",
    "\n",
    "The outputs from the base models used as input to the meta-model may be real value in the case of regression, and probability values, probability like values, or class labels in the case of classification.\n",
    "\n",
    "\n",
    "\n",
    "**Base-Models**: Use a diverse range of models that make different assumptions about the prediction task.Like: Decision Tree, SVM,Neural Networks etc...\n",
    "\n",
    "**Meta-model**: is often simple, providing a smooth interpretation of the predictions made by the base models. As such, linear models are often used as the meta-model, such as linear regression for regression tasks (predicting a numeric value) and logistic regression for classification tasks (predicting a class label).\n",
    "\n",
    "\n",
    "\n",
    "\n"
   ]
  },
  {
   "cell_type": "markdown",
   "metadata": {
    "id": "5LBe-LC1yTO8"
   },
   "source": [
    "# **Implementation**"
   ]
  },
  {
   "cell_type": "code",
   "execution_count": 26,
   "metadata": {
    "executionInfo": {
     "elapsed": 1366,
     "status": "ok",
     "timestamp": 1606567188183,
     "user": {
      "displayName": "Karndeep Singh",
      "photoUrl": "https://lh3.googleusercontent.com/a-/AOh14Gi4t2om6SAW5i-FMNB3lhWj1K7u9xj2e2UzQ1EQaQ=s64",
      "userId": "04136803224517152286"
     },
     "user_tz": -330
    },
    "id": "ajvfn551tgfN"
   },
   "outputs": [],
   "source": [
    "#importing the required libraries\n",
    "from numpy import mean\n",
    "from numpy import std\n",
    "from sklearn.datasets import make_classification\n",
    "from sklearn.model_selection import cross_val_score\n",
    "from sklearn.model_selection import RepeatedStratifiedKFold\n",
    "from sklearn.linear_model import LogisticRegression\n",
    "from sklearn.neighbors import KNeighborsClassifier\n",
    "from sklearn.tree import DecisionTreeClassifier\n",
    "from sklearn.ensemble import StackingClassifier\n",
    "from sklearn.svm import SVC\n",
    "from sklearn.naive_bayes import GaussianNB\n",
    "from matplotlib import pyplot"
   ]
  },
  {
   "cell_type": "code",
   "execution_count": 27,
   "metadata": {
    "executionInfo": {
     "elapsed": 1452,
     "status": "ok",
     "timestamp": 1606567210959,
     "user": {
      "displayName": "Karndeep Singh",
      "photoUrl": "https://lh3.googleusercontent.com/a-/AOh14Gi4t2om6SAW5i-FMNB3lhWj1K7u9xj2e2UzQ1EQaQ=s64",
      "userId": "04136803224517152286"
     },
     "user_tz": -330
    },
    "id": "1W9p7qMxyikr"
   },
   "outputs": [],
   "source": [
    "# get the dataset\n",
    "def get_dataset():\n",
    "    X, y = make_classification(n_samples=1000, n_features=20, n_informative=15, n_redundant=5, random_state=1)\n",
    "    return X, y"
   ]
  },
  {
   "cell_type": "code",
   "execution_count": 28,
   "metadata": {
    "executionInfo": {
     "elapsed": 1360,
     "status": "ok",
     "timestamp": 1606567374050,
     "user": {
      "displayName": "Karndeep Singh",
      "photoUrl": "https://lh3.googleusercontent.com/a-/AOh14Gi4t2om6SAW5i-FMNB3lhWj1K7u9xj2e2UzQ1EQaQ=s64",
      "userId": "04136803224517152286"
     },
     "user_tz": -330
    },
    "id": "_reJPTKqyiuJ"
   },
   "outputs": [],
   "source": [
    "# get a stacking ensemble of models\n",
    "def get_stacking():\n",
    "    # Define the base models\n",
    "    level1 = list()\n",
    "    level1.append(('lr', LogisticRegression()))\n",
    "    level1.append(('knn', KNeighborsClassifier()))\n",
    "    level1.append(('cart', DecisionTreeClassifier()))\n",
    "    level1.append(('svm', SVC()))\n",
    "    level1.append(('bayes', GaussianNB()))\n",
    "\n",
    "    # Define the meta learner model\n",
    "    level2 = LogisticRegression()\n",
    "\n",
    "    # Define the stacking ensemble\n",
    "    model = StackingClassifier(estimators=level1, final_estimator=level2, cv=5)\n",
    "\n",
    "    return model"
   ]
  },
  {
   "cell_type": "code",
   "execution_count": 29,
   "metadata": {
    "executionInfo": {
     "elapsed": 1383,
     "status": "ok",
     "timestamp": 1606567430958,
     "user": {
      "displayName": "Karndeep Singh",
      "photoUrl": "https://lh3.googleusercontent.com/a-/AOh14Gi4t2om6SAW5i-FMNB3lhWj1K7u9xj2e2UzQ1EQaQ=s64",
      "userId": "04136803224517152286"
     },
     "user_tz": -330
    },
    "id": "nw7AuUkTzRAa"
   },
   "outputs": [],
   "source": [
    "# get a list of models to evaluate\n",
    "def get_models():\n",
    "    models = dict()\n",
    "    models['lr'] = LogisticRegression()\n",
    "    models['knn'] = KNeighborsClassifier()\n",
    "    models['cart'] = DecisionTreeClassifier()\n",
    "    models['svm'] = SVC()\n",
    "    models['bayes'] = GaussianNB()\n",
    "    models['stacking'] = get_stacking()  # Assuming you have already defined the get_stacking function\n",
    "    \n",
    "    return models"
   ]
  },
  {
   "cell_type": "code",
   "execution_count": 30,
   "metadata": {
    "executionInfo": {
     "elapsed": 3055,
     "status": "ok",
     "timestamp": 1606567492908,
     "user": {
      "displayName": "Karndeep Singh",
      "photoUrl": "https://lh3.googleusercontent.com/a-/AOh14Gi4t2om6SAW5i-FMNB3lhWj1K7u9xj2e2UzQ1EQaQ=s64",
      "userId": "04136803224517152286"
     },
     "user_tz": -330
    },
    "id": "YufmJIxfyi0T"
   },
   "outputs": [],
   "source": [
    " \n",
    "# evaluate a given model using cross-validation\n",
    "def evaluate_model(model, X, y):\n",
    "    cv = RepeatedStratifiedKFold(n_splits=10, n_repeats=3, random_state=1)\n",
    "    scores = cross_val_score(model, X, y, scoring='accuracy', cv=cv, n_jobs=-1, error_score='raise')\n",
    "    return scores"
   ]
  },
  {
   "cell_type": "code",
   "execution_count": 31,
   "metadata": {
    "colab": {
     "base_uri": "https://localhost:8080/",
     "height": 372
    },
    "executionInfo": {
     "elapsed": 11703,
     "status": "ok",
     "timestamp": 1606567653992,
     "user": {
      "displayName": "Karndeep Singh",
      "photoUrl": "https://lh3.googleusercontent.com/a-/AOh14Gi4t2om6SAW5i-FMNB3lhWj1K7u9xj2e2UzQ1EQaQ=s64",
      "userId": "04136803224517152286"
     },
     "user_tz": -330
    },
    "id": "WyUKaEgiyow_",
    "outputId": "9e4384fd-1204-4ec3-ca52-86e688f06b22"
   },
   "outputs": [
    {
     "name": "stdout",
     "output_type": "stream",
     "text": [
      ">lr 0.866 (0.029)\n",
      ">knn 0.931 (0.025)\n",
      ">cart 0.823 (0.038)\n",
      ">svm 0.957 (0.020)\n",
      ">bayes 0.833 (0.031)\n",
      ">stacking 0.964 (0.019)\n"
     ]
    },
    {
     "data": {
      "image/png": "[encoded data removed]",
      "text/plain": [
       "<Figure size 432x288 with 1 Axes>"
      ]
     },
     "metadata": {
      "needs_background": "light",
      "tags": []
     },
     "output_type": "display_data"
    }
   ],
   "source": [
    "# define dataset\n",
    "X, y = get_dataset()\n",
    "models = get_models()\n",
    "\n",
    "results, names = list(), list()\n",
    "for name, model in models.items():\n",
    "    scores = evaluate_model(model, X, y)\n",
    "    results.append(scores)\n",
    "    names.append(name)\n",
    "    print('>%s %.3f (%.3f)' % (name, mean(scores), std(scores)))\n",
    "# plot model performance for comparison\n",
    "pyplot.boxplot(results, labels=names, showmeans=True)\n",
    "pyplot.show()"
   ]
  },
  {
   "cell_type": "code",
   "execution_count": null,
   "metadata": {
    "id": "qK88PrWmy6dk"
   },
   "outputs": [],
   "source": []
  }
 ],
 "metadata": {
  "colab": {
   "authorship_tag": "ABX9TyOgCSU6R48WZ3YDRsJhJzrq",
   "collapsed_sections": [],
   "name": "Stacking Genralization.ipynb",
   "provenance": []
  },
  "kernelspec": {
   "display_name": "Python 3 (ipykernel)",
   "language": "python",
   "name": "python3"
  },
  "language_info": {
   "codemirror_mode": {
    "name": "ipython",
    "version": 3
   },
   "file_extension": ".py",
   "mimetype": "text/x-python",
   "name": "python",
   "nbconvert_exporter": "python",
   "pygments_lexer": "ipython3",
   "version": "3.10.9"
  }
 },
 "nbformat": 4,
 "nbformat_minor": 1
}
